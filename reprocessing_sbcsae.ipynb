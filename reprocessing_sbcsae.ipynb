{
 "cells": [
  {
   "cell_type": "markdown",
   "id": "ba668fab",
   "metadata": {},
   "source": [
    "Maya Asher, 3/22/24\n",
    "# Reprocessing the Santa Barbara Corpus of Spoken American English\n",
    "**NEW REPLACEMENT**\n",
    "\n",
    "The SBCSAE is a collection of time-aligned transcripts of audio files. Along with timestamps, the transcripts also include many non-alphabetic characters that denote different aspects of the speech. In this notebook, I will be processing and cleaning up the raw text so that I can easily search for and locate my target words in my later analysis. \n",
    "## Import"
   ]
  },
  {
   "cell_type": "code",
   "execution_count": 1,
   "id": "cae7fc2f",
   "metadata": {},
   "outputs": [
    {
     "name": "stdout",
     "output_type": "stream",
     "text": [
      "Pretty printing has been turned OFF\n"
     ]
    }
   ],
   "source": [
    "import numpy as np\n",
    "import pandas as pd\n",
    "import matplotlib.pyplot as plt\n",
    "import os\n",
    "import nltk\n",
    "import re\n",
    "%pprint"
   ]
  },
  {
   "cell_type": "markdown",
   "id": "67c12f80",
   "metadata": {},
   "source": [
    "## Read in files\n",
    "There are 43 TRN files that need to be imported from my folder. I've created a list of data frames to hold all 43 transcripts, but there are many unresolved issues with formatting so only 26 transcripts have been added so far. They are also not in numerical order, but I had issues getting that to work (see commented-out code below). "
   ]
  },
  {
   "cell_type": "code",
   "execution_count": 2,
   "id": "fa78ee1a",
   "metadata": {},
   "outputs": [
    {
     "name": "stdout",
     "output_type": "stream",
     "text": [
      "Error parsing SBC023.trn: Error tokenizing data. C error: Expected 4 fields in line 475, saw 5\n",
      "\n",
      "Error parsing SBC019.trn: Error tokenizing data. C error: Expected 4 fields in line 172, saw 5\n",
      "\n",
      "Error parsing SBC024.trn: Error tokenizing data. C error: Expected 4 fields in line 621, saw 5\n",
      "\n",
      "Error parsing SBC018.trn: Error tokenizing data. C error: Expected 4 fields in line 564, saw 5\n",
      "\n",
      "Error parsing SBC056.trn: Error tokenizing data. C error: Expected 4 fields in line 289, saw 5\n",
      "\n",
      "Error parsing SBC048.trn: Error tokenizing data. C error: Expected 4 fields in line 691, saw 5\n",
      "\n",
      "Error parsing SBC060.trn: Error tokenizing data. C error: Expected 4 fields in line 43, saw 5\n",
      "\n",
      "Error parsing SBC058.trn: Error tokenizing data. C error: Expected 4 fields in line 254, saw 5\n",
      "\n",
      "Error parsing SBC059.trn: Error tokenizing data. C error: Expected 4 fields in line 1710, saw 5\n",
      "\n",
      "Error parsing SBC015.trn: Error tokenizing data. C error: Expected 4 fields in line 940, saw 5\n",
      "\n",
      "Error parsing SBC029.trn: Error tokenizing data. C error: Expected 4 fields in line 954, saw 5\n",
      "\n",
      "Error parsing SBC014.trn: Error tokenizing data. C error: Expected 2 fields in line 1122, saw 4\n",
      "\n",
      "Error parsing SBC016.trn: Error tokenizing data. C error: Expected 4 fields in line 1185, saw 5\n",
      "\n",
      "Error parsing SBC017.trn: Error tokenizing data. C error: Expected 4 fields in line 32, saw 5\n",
      "\n",
      "Error parsing SBC007.trn: Error tokenizing data. C error: Expected 3 fields in line 631, saw 5\n",
      "\n",
      "Error parsing SBC013.trn: Error tokenizing data. C error: Expected 3 fields in line 482, saw 5\n",
      "\n",
      "Error parsing SBC004.trn: Error tokenizing data. C error: Expected 3 fields in line 102, saw 4\n",
      "\n"
     ]
    }
   ],
   "source": [
    "path = \"/Users/mayaasher/data_science/Stance-Taking-in-Spontaneous-Speech/data/utf-16/\"\n",
    "os.chdir(path)\n",
    "data_frames = []\n",
    "for file in os.listdir():\n",
    "    try:\n",
    "        if file.endswith(\".trn\"): \n",
    "            filename = file\n",
    "            data = pd.read_csv(path+filename, sep='\\t', header=None, encoding='utf-16-be')\n",
    "            df = pd.DataFrame(data)\n",
    "            data_frames.append(df)\n",
    "    except pd.errors.ParserError as e:\n",
    "        # Handle the parsing error\n",
    "        print(f\"Error parsing {filename}: {e}\")\n",
    "    except Exception as e:\n",
    "        # Handle other unexpected errors\n",
    "        print(f\"An error occurred: {e}\")"
   ]
  },
  {
   "cell_type": "code",
   "execution_count": 3,
   "id": "937ce4d6",
   "metadata": {},
   "outputs": [
    {
     "data": {
      "text/html": [
       "<div>\n",
       "<style scoped>\n",
       "    .dataframe tbody tr th:only-of-type {\n",
       "        vertical-align: middle;\n",
       "    }\n",
       "\n",
       "    .dataframe tbody tr th {\n",
       "        vertical-align: top;\n",
       "    }\n",
       "\n",
       "    .dataframe thead th {\n",
       "        text-align: right;\n",
       "    }\n",
       "</style>\n",
       "<table border=\"1\" class=\"dataframe\">\n",
       "  <thead>\n",
       "    <tr style=\"text-align: right;\">\n",
       "      <th></th>\n",
       "      <th>0</th>\n",
       "      <th>1</th>\n",
       "      <th>2</th>\n",
       "      <th>3</th>\n",
       "    </tr>\n",
       "  </thead>\n",
       "  <tbody>\n",
       "    <tr>\n",
       "      <th>0</th>\n",
       "      <td>0.000</td>\n",
       "      <td>4.475</td>\n",
       "      <td>&gt;ENV:</td>\n",
       "      <td>((DOOR_OPENING_AND_CLOSING))</td>\n",
       "    </tr>\n",
       "    <tr>\n",
       "      <th>1</th>\n",
       "      <td>4.475</td>\n",
       "      <td>5.077</td>\n",
       "      <td>KAREN:</td>\n",
       "      <td>Hi sweetie.</td>\n",
       "    </tr>\n",
       "    <tr>\n",
       "      <th>2</th>\n",
       "      <td>5.077</td>\n",
       "      <td>5.908</td>\n",
       "      <td>SCOTT:</td>\n",
       "      <td>... Hey.</td>\n",
       "    </tr>\n",
       "    <tr>\n",
       "      <th>3</th>\n",
       "      <td>5.908</td>\n",
       "      <td>6.489</td>\n",
       "      <td>NaN</td>\n",
       "      <td>.. (THROAT)</td>\n",
       "    </tr>\n",
       "    <tr>\n",
       "      <th>4</th>\n",
       "      <td>6.489</td>\n",
       "      <td>7.630</td>\n",
       "      <td>KAREN:</td>\n",
       "      <td>&lt;X Sweetie frumptions X&gt;.</td>\n",
       "    </tr>\n",
       "    <tr>\n",
       "      <th>...</th>\n",
       "      <td>...</td>\n",
       "      <td>...</td>\n",
       "      <td>...</td>\n",
       "      <td>...</td>\n",
       "    </tr>\n",
       "    <tr>\n",
       "      <th>734</th>\n",
       "      <td>1449.400</td>\n",
       "      <td>1451.002</td>\n",
       "      <td>SCOTT:</td>\n",
       "      <td>[I'll come visit you tom]orrow at [2work2].</td>\n",
       "    </tr>\n",
       "    <tr>\n",
       "      <th>735</th>\n",
       "      <td>1450.749</td>\n",
       "      <td>1451.643</td>\n",
       "      <td>KAREN:</td>\n",
       "      <td>[2Y=2]es=.</td>\n",
       "    </tr>\n",
       "    <tr>\n",
       "      <th>736</th>\n",
       "      <td>1451.643</td>\n",
       "      <td>1454.028</td>\n",
       "      <td>NaN</td>\n",
       "      <td>... That would be nice.</td>\n",
       "    </tr>\n",
       "    <tr>\n",
       "      <th>737</th>\n",
       "      <td>1454.028</td>\n",
       "      <td>1459.042</td>\n",
       "      <td>NaN</td>\n",
       "      <td>... (COUGH) (COUGH) (COUGH)</td>\n",
       "    </tr>\n",
       "    <tr>\n",
       "      <th>738</th>\n",
       "      <td>1459.042</td>\n",
       "      <td>1480.445</td>\n",
       "      <td>SCOTT:</td>\n",
       "      <td>... (HUMMING)</td>\n",
       "    </tr>\n",
       "  </tbody>\n",
       "</table>\n",
       "<p>739 rows × 4 columns</p>\n",
       "</div>"
      ],
      "text/plain": [
       "            0         1       2                                            3\n",
       "0       0.000     4.475   >ENV:                 ((DOOR_OPENING_AND_CLOSING))\n",
       "1       4.475     5.077  KAREN:                                  Hi sweetie.\n",
       "2       5.077     5.908  SCOTT:                                     ... Hey.\n",
       "3       5.908     6.489     NaN                                  .. (THROAT)\n",
       "4       6.489     7.630  KAREN:                    <X Sweetie frumptions X>.\n",
       "..        ...       ...     ...                                          ...\n",
       "734  1449.400  1451.002  SCOTT:  [I'll come visit you tom]orrow at [2work2].\n",
       "735  1450.749  1451.643  KAREN:                                   [2Y=2]es=.\n",
       "736  1451.643  1454.028     NaN                      ... That would be nice.\n",
       "737  1454.028  1459.042     NaN                  ... (COUGH) (COUGH) (COUGH)\n",
       "738  1459.042  1480.445  SCOTT:                                ... (HUMMING)\n",
       "\n",
       "[739 rows x 4 columns]"
      ]
     },
     "execution_count": 3,
     "metadata": {},
     "output_type": "execute_result"
    }
   ],
   "source": [
    "data_frames[0]"
   ]
  },
  {
   "cell_type": "code",
   "execution_count": 4,
   "id": "523d76fc",
   "metadata": {},
   "outputs": [
    {
     "data": {
      "text/plain": [
       "26"
      ]
     },
     "execution_count": 4,
     "metadata": {},
     "output_type": "execute_result"
    }
   ],
   "source": [
    "len(data_frames)"
   ]
  },
  {
   "cell_type": "markdown",
   "id": "0a515aa8",
   "metadata": {},
   "source": [
    "### Buggy code that I will come back to if needed..."
   ]
  },
  {
   "cell_type": "code",
   "execution_count": 5,
   "id": "12c1aa24",
   "metadata": {},
   "outputs": [],
   "source": [
    "# path = \"/Users/mayaasher/data_science/Stance-Taking-in-Spontaneous-Speech/data/utf-16/\"\n",
    "# pattern = r'\\d+'\n",
    "# files = os.listdir(path)\n",
    "# files.sort(key=lambda x: int(re.search(pattern, x).group()) if re.search(pattern, x) else float('inf'))\n",
    "\n",
    "# filenames = []\n",
    "# for file in files:\n",
    "#     if file.endswith(\".trn\"): \n",
    "#         filenames.append(file)"
   ]
  },
  {
   "cell_type": "code",
   "execution_count": 6,
   "id": "fe92c68f",
   "metadata": {},
   "outputs": [],
   "source": [
    "# path = \"/Users/mayaasher/data_science/Stance-Taking-in-Spontaneous-Speech/data/utf-16/\"\n",
    "# data_frames = []\n",
    "# for file in filenames:\n",
    "#     data = pd.read_csv(path+file, sep='\\t', header=None, encoding='utf-16-be', error_bad_lines=False)\n",
    "#     df = pd.DataFrame(data)\n",
    "#     data_frames.append(df)"
   ]
  },
  {
   "cell_type": "code",
   "execution_count": 7,
   "id": "4b112234",
   "metadata": {},
   "outputs": [],
   "source": [
    "# path = \"/Users/mayaasher/data_science/Stance-Taking-in-Spontaneous-Speech/data/utf-16/\"\n",
    "\n",
    "# files = os.listdir(path)\n",
    "# pattern = r'\\d+'\n",
    "# files.sort(key=lambda x: int(re.search(pattern, x).group()) if re.search(pattern, x) else float('inf'))\n",
    "\n",
    "# data_frames = []\n",
    "\n",
    "# for file in files:\n",
    "#     try:\n",
    "#         # Check if the file is a .trn file\n",
    "#         if file.endswith(\".trn\"): \n",
    "#             filename = file\n",
    "#             # Try reading the file\n",
    "#             data = pd.read_csv(path + filename, sep='\\t', header=None, encoding='utf-16-be')\n",
    "#             df = pd.DataFrame(data)\n",
    "#             data_frames.append(df)\n",
    "#     except pd.errors.ParserError as e:\n",
    "#         # Handle the parsing error\n",
    "#         print(f\"Error parsing {filename}: {e}\")\n",
    "#     except Exception as e:\n",
    "#         # Handle other unexpected errors\n",
    "#         print(f\"An error occurred: {e}\")"
   ]
  },
  {
   "cell_type": "markdown",
   "id": "35149913",
   "metadata": {},
   "source": [
    "`[A-Z][A-Z]+:` to get the names and separate turns\n",
    "`\\d+.\\d+` to get time stamps"
   ]
  }
 ],
 "metadata": {
  "kernelspec": {
   "display_name": "Python 3 (ipykernel)",
   "language": "python",
   "name": "python3"
  },
  "language_info": {
   "codemirror_mode": {
    "name": "ipython",
    "version": 3
   },
   "file_extension": ".py",
   "mimetype": "text/x-python",
   "name": "python",
   "nbconvert_exporter": "python",
   "pygments_lexer": "ipython3",
   "version": "3.11.4"
  }
 },
 "nbformat": 4,
 "nbformat_minor": 5
}
