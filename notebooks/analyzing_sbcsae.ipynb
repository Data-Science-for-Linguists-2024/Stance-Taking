{
 "cells": [
  {
   "cell_type": "markdown",
   "id": "98d52c9b",
   "metadata": {},
   "source": [
    "Maya Asher, 4/26/24\n",
    "# Analyzing the SBCSAE\n",
    "**NEW CONTINUING**\n",
    "\n",
    "Using the processed data (which can be found [here](https://github.com/Data-Science-for-Linguists-2024/Stance-Taking-in-Spontaneous-Speech/blob/main/reprocessing_sbcsae.ipynb)) we can begin our stance taking anaylsis."
   ]
  },
  {
   "cell_type": "markdown",
   "id": "5a116a05",
   "metadata": {},
   "source": [
    "## Object of analysis\n",
    "**TL;DR**: This analysis will focus on lexical items and discourse markers that vary in their levels of investment (ex: *like* vs. *love*). This is based on a three dimensional model of analyzing stance and stanctaking explained in Kiesling (2022).\n",
    "### Background\n",
    "As Dr. Scott Kiesling discusses in his paper \"Stance and Stancetaking\" (2022), stance is how people position themselves in conversations and it can be analyzed using a three-dimensional model that encompasses **evaluation**, **alignment**, and **investment**. In a simple conversation, animator A evaluates an object, prompting animator B to also evaluate that object, resulting in an alignment or disalignment between the two interlocutors. Investment is the extent to which each person commits to their evaluation. \n",
    "\n",
    "So, for example, if I were to say \"I really love data science,\" I am indexing a large amount of investment to my evaluation of data science. Then, if my interlocutor were to respond, \"I kind of like data science,\" we are somewhat aligning by speaking of data science in a positive light, but they are indexing less investment in their evaluation than I am. \n",
    "\n",
    "In the example above, investment was indexed through the lexical items *really love* and *kind of like*, but an animator's level of investment can also be indicated through epistemicity and evidentiality.\n",
    "\n",
    "In this three-dimensional model of analysis, there are also three participant roles: the **author** who composes the essential text, the **animator** who produces the speech, and the **principal** who takes responsibility for the utterance. This idea will be explored later on in the analysis.\n",
    "### Current investigation\n",
    "With the idea of investment established, my focus for this project will be to identify lexical items that index varying levels of investment and analyze their contexts and frequencies, producing both qualitative and quantitative results that can be compared to one another. \n",
    "\n",
    "Specifically, I will look at lexical items and discourse markers that vary in thier predicted levels of investment (`like`, `love`, `fine`, `good`, `great`, `I mean`, `might`, `always`, `maybe`, and `very`). To do this, we will unpickle our dictionaries of data frames and begin our search for our target words.\n",
    "\n",
    "### Citation\n",
    "Kiesling, S. F. (2022). Stance and Stancetaking. *Annual Review of Linguistics*, 8, 409-426. https://doi.org/10.1146/annurev-linguistics-031120-121256"
   ]
  },
  {
   "cell_type": "markdown",
   "id": "4eb2cc9f",
   "metadata": {},
   "source": [
    "## Import"
   ]
  },
  {
   "cell_type": "code",
   "execution_count": 1,
   "id": "db968ba6",
   "metadata": {},
   "outputs": [
    {
     "name": "stdout",
     "output_type": "stream",
     "text": [
      "Pretty printing has been turned OFF\n"
     ]
    }
   ],
   "source": [
    "import pickle\n",
    "import matplotlib.pyplot as plt\n",
    "import re\n",
    "%pprint"
   ]
  },
  {
   "cell_type": "markdown",
   "id": "82f3032e",
   "metadata": {},
   "source": [
    "## Unpickle"
   ]
  },
  {
   "cell_type": "code",
   "execution_count": 2,
   "id": "5b36f4a1",
   "metadata": {},
   "outputs": [],
   "source": [
    "f = open('../all_dfs.pkl', 'rb')\n",
    "dfs = pickle.load(f)\n",
    "f.close()"
   ]
  },
  {
   "cell_type": "code",
   "execution_count": 3,
   "id": "b41ee589",
   "metadata": {},
   "outputs": [
    {
     "data": {
      "text/plain": [
       "43"
      ]
     },
     "execution_count": 3,
     "metadata": {},
     "output_type": "execute_result"
    }
   ],
   "source": [
    "# perfect!\n",
    "len(dfs)"
   ]
  },
  {
   "cell_type": "markdown",
   "id": "ad4c4804",
   "metadata": {},
   "source": [
    "## Investigate text\n",
    "Since we labeled each dictionary's df columns the same (at least for `text`), we can use the dictionary that has ALL of the dfs!"
   ]
  },
  {
   "cell_type": "code",
   "execution_count": 4,
   "id": "dd4925c8",
   "metadata": {},
   "outputs": [
    {
     "data": {
      "text/html": [
       "<div>\n",
       "<style scoped>\n",
       "    .dataframe tbody tr th:only-of-type {\n",
       "        vertical-align: middle;\n",
       "    }\n",
       "\n",
       "    .dataframe tbody tr th {\n",
       "        vertical-align: top;\n",
       "    }\n",
       "\n",
       "    .dataframe thead th {\n",
       "        text-align: right;\n",
       "    }\n",
       "</style>\n",
       "<table border=\"1\" class=\"dataframe\">\n",
       "  <thead>\n",
       "    <tr style=\"text-align: right;\">\n",
       "      <th></th>\n",
       "      <th>time_speaker</th>\n",
       "      <th>text</th>\n",
       "    </tr>\n",
       "  </thead>\n",
       "  <tbody>\n",
       "    <tr>\n",
       "      <th>0</th>\n",
       "      <td>0.00 2.53  FRED:</td>\n",
       "      <td>... Okay.</td>\n",
       "    </tr>\n",
       "    <tr>\n",
       "      <th>1</th>\n",
       "      <td>2.53 4.73</td>\n",
       "      <td>One= large loan (Hx),</td>\n",
       "    </tr>\n",
       "    <tr>\n",
       "      <th>2</th>\n",
       "      <td>4.73 6.23</td>\n",
       "      <td>... renewed (Hx),</td>\n",
       "    </tr>\n",
       "    <tr>\n",
       "      <th>3</th>\n",
       "      <td>6.23 8.08</td>\n",
       "      <td>... a hundred ninety-seven= .. thousand,</td>\n",
       "    </tr>\n",
       "    <tr>\n",
       "      <th>4</th>\n",
       "      <td>8.08 9.23</td>\n",
       "      <td>a hundred eighty dollars.</td>\n",
       "    </tr>\n",
       "  </tbody>\n",
       "</table>\n",
       "</div>"
      ],
      "text/plain": [
       "          time_speaker                                      text\n",
       "0  0.00 2.53  FRED:                                    ... Okay.\n",
       "1   2.53 4.73                              One= large loan (Hx),\n",
       "2   4.73 6.23                                  ... renewed (Hx),\n",
       "3   6.23 8.08           ... a hundred ninety-seven= .. thousand,\n",
       "4   8.08 9.23                          a hundred eighty dollars."
      ]
     },
     "execution_count": 4,
     "metadata": {},
     "output_type": "execute_result"
    }
   ],
   "source": [
    "dfs[\"SBC014.trn\"].head() # 2 col"
   ]
  },
  {
   "cell_type": "code",
   "execution_count": 5,
   "id": "1beb36fd",
   "metadata": {},
   "outputs": [
    {
     "data": {
      "text/html": [
       "<div>\n",
       "<style scoped>\n",
       "    .dataframe tbody tr th:only-of-type {\n",
       "        vertical-align: middle;\n",
       "    }\n",
       "\n",
       "    .dataframe tbody tr th {\n",
       "        vertical-align: top;\n",
       "    }\n",
       "\n",
       "    .dataframe thead th {\n",
       "        text-align: right;\n",
       "    }\n",
       "</style>\n",
       "<table border=\"1\" class=\"dataframe\">\n",
       "  <thead>\n",
       "    <tr style=\"text-align: right;\">\n",
       "      <th></th>\n",
       "      <th>time</th>\n",
       "      <th>speaker</th>\n",
       "      <th>text</th>\n",
       "    </tr>\n",
       "  </thead>\n",
       "  <tbody>\n",
       "    <tr>\n",
       "      <th>0</th>\n",
       "      <td>0.00 1.24</td>\n",
       "      <td>KEVIN:</td>\n",
       "      <td>Is that just [carbonated water]?</td>\n",
       "    </tr>\n",
       "    <tr>\n",
       "      <th>1</th>\n",
       "      <td>0.45 1.24</td>\n",
       "      <td>WENDY:</td>\n",
       "      <td>[No thank you].</td>\n",
       "    </tr>\n",
       "    <tr>\n",
       "      <th>2</th>\n",
       "      <td>1.24 1.50</td>\n",
       "      <td></td>\n",
       "      <td>[2No,</td>\n",
       "    </tr>\n",
       "    <tr>\n",
       "      <th>3</th>\n",
       "      <td>1.24 3.38</td>\n",
       "      <td>KEN:</td>\n",
       "      <td>[2(H) No this is2] crea=m [3soda.</td>\n",
       "    </tr>\n",
       "    <tr>\n",
       "      <th>4</th>\n",
       "      <td>1.50 2.36</td>\n",
       "      <td>WENDY:</td>\n",
       "      <td>It's cream soda2].</td>\n",
       "    </tr>\n",
       "  </tbody>\n",
       "</table>\n",
       "</div>"
      ],
      "text/plain": [
       "        time   speaker                               text\n",
       "0  0.00 1.24  KEVIN:     Is that just [carbonated water]?\n",
       "1  0.45 1.24  WENDY:                      [No thank you].\n",
       "2  1.24 1.50                                        [2No,\n",
       "3  1.24 3.38  KEN:      [2(H) No this is2] crea=m [3soda.\n",
       "4  1.50 2.36  WENDY:                   It's cream soda2]."
      ]
     },
     "execution_count": 5,
     "metadata": {},
     "output_type": "execute_result"
    }
   ],
   "source": [
    "dfs[\"SBC013.trn\"].head() # 3 col"
   ]
  },
  {
   "cell_type": "code",
   "execution_count": 6,
   "id": "81765a21",
   "metadata": {},
   "outputs": [
    {
     "data": {
      "text/html": [
       "<div>\n",
       "<style scoped>\n",
       "    .dataframe tbody tr th:only-of-type {\n",
       "        vertical-align: middle;\n",
       "    }\n",
       "\n",
       "    .dataframe tbody tr th {\n",
       "        vertical-align: top;\n",
       "    }\n",
       "\n",
       "    .dataframe thead th {\n",
       "        text-align: right;\n",
       "    }\n",
       "</style>\n",
       "<table border=\"1\" class=\"dataframe\">\n",
       "  <thead>\n",
       "    <tr style=\"text-align: right;\">\n",
       "      <th></th>\n",
       "      <th>time_start</th>\n",
       "      <th>time_end</th>\n",
       "      <th>speaker</th>\n",
       "      <th>text</th>\n",
       "    </tr>\n",
       "  </thead>\n",
       "  <tbody>\n",
       "    <tr>\n",
       "      <th>0</th>\n",
       "      <td>2.660</td>\n",
       "      <td>2.805</td>\n",
       "      <td>JOANNE:</td>\n",
       "      <td>But,</td>\n",
       "    </tr>\n",
       "    <tr>\n",
       "      <th>1</th>\n",
       "      <td>2.805</td>\n",
       "      <td>4.685</td>\n",
       "      <td></td>\n",
       "      <td>so these slides &lt;X should X&gt; be real interesting.</td>\n",
       "    </tr>\n",
       "    <tr>\n",
       "      <th>2</th>\n",
       "      <td>6.140</td>\n",
       "      <td>6.325</td>\n",
       "      <td>KEN:</td>\n",
       "      <td>... Yeah.</td>\n",
       "    </tr>\n",
       "    <tr>\n",
       "      <th>3</th>\n",
       "      <td>6.325</td>\n",
       "      <td>7.710</td>\n",
       "      <td></td>\n",
       "      <td>I think it'll be real interesting</td>\n",
       "    </tr>\n",
       "    <tr>\n",
       "      <th>4</th>\n",
       "      <td>7.710</td>\n",
       "      <td>8.535</td>\n",
       "      <td></td>\n",
       "      <td>I think it'll be a real,</td>\n",
       "    </tr>\n",
       "  </tbody>\n",
       "</table>\n",
       "</div>"
      ],
      "text/plain": [
       "   time_start  time_end  speaker  \\\n",
       "0       2.660     2.805  JOANNE:   \n",
       "1       2.805     4.685            \n",
       "2       6.140     6.325     KEN:   \n",
       "3       6.325     7.710            \n",
       "4       7.710     8.535            \n",
       "\n",
       "                                                text  \n",
       "0                                               But,  \n",
       "1  so these slides <X should X> be real interesting.  \n",
       "2                                          ... Yeah.  \n",
       "3                  I think it'll be real interesting  \n",
       "4                           I think it'll be a real,  "
      ]
     },
     "execution_count": 6,
     "metadata": {},
     "output_type": "execute_result"
    }
   ],
   "source": [
    "dfs[\"SBC015.trn\"].head() # 4 col"
   ]
  },
  {
   "cell_type": "markdown",
   "id": "df45deba",
   "metadata": {},
   "source": [
    "## Extract targets\n",
    "The two *lexical items* we want are `like` and `love` and the eight *discourse markers* we want are `fine`, `good`, `great`, `I mean`, `might`, `always`, `maybe`, and `very`. \n",
    "\n",
    "\n",
    "We will create a dictionary for each word with the key being the file name (ex: `SBC001.trn`) and the value being a list of tuples that look like (row number, 'like' in context). Thankfully, we can work with `dfs` because all the `text` columns are labeled as such."
   ]
  },
  {
   "cell_type": "code",
   "execution_count": 7,
   "id": "88123c5f",
   "metadata": {},
   "outputs": [
    {
     "name": "stdout",
     "output_type": "stream",
     "text": [
      "Total occurrences of 'likes': 1188\n",
      "Total occurrences of 'loves': 68\n",
      "Total occurrences of 'fines': 63\n",
      "Total occurrences of 'goods': 390\n",
      "Total occurrences of 'greats': 115\n",
      "Total occurrences of 'imeans': 432\n",
      "Total occurrences of 'mights': 93\n",
      "Total occurrences of 'always': 159\n",
      "Total occurrences of 'maybes': 182\n",
      "Total occurrences of 'verys': 187\n",
      "Total occurences: 2877\n"
     ]
    }
   ],
   "source": [
    "# master dictionary\n",
    "dicts = {\n",
    "    'likes': {}, 'loves': {}, 'fines': {}, 'goods': {}, 'greats': {},\n",
    "    'imeans': {}, 'mights': {}, 'always': {}, 'maybes': {}, 'verys': {}\n",
    "}\n",
    "\n",
    "# corresponding regexs\n",
    "terms = {\n",
    "    'likes': r'\\blike[^,]\\b', 'loves': r'\\blove\\b', 'fines': r'\\bfine\\b',\n",
    "    'goods': r'\\bgood\\b', 'greats': r'\\bgreat\\b', 'imeans': r'\\bI\\smean\\b',\n",
    "    'mights': r'\\bmight\\b', 'always': r'\\balways\\b', 'maybes': r'\\bmaybe\\b',\n",
    "    'verys': r'\\bvery\\b'\n",
    "}\n",
    "\n",
    "# initialize term counter\n",
    "total_counts = {key: 0 for key in terms}\n",
    "\n",
    "# process each df in `dfs`\n",
    "for df_name, df in dfs.items():\n",
    "    \n",
    "    for key, regex in terms.items():\n",
    "        \n",
    "        # extract rows where the target word is found in the text column\n",
    "        rows = df[df['text'].str.contains(regex, case=False, regex=True, na=False)]\n",
    "        \n",
    "        # list of tuples containing (row #, text) for each occurrence\n",
    "        occurrences = [(index, row['text']) for index, row in rows.iterrows()]\n",
    "        \n",
    "        # save occurrences in the corresponding dict\n",
    "        dicts[key][df_name] = occurrences\n",
    "        \n",
    "        # update total counts\n",
    "        total_counts[key] += len(occurrences)\n",
    "        \n",
    "# print total counts for each term\n",
    "running = 0\n",
    "for term, count in total_counts.items():\n",
    "    print(f\"Total occurrences of '{term}':\", count)\n",
    "    running += count\n",
    "print(\"Total occurences:\", running)"
   ]
  },
  {
   "cell_type": "code",
   "execution_count": 8,
   "id": "89e629e8",
   "metadata": {},
   "outputs": [],
   "source": [
    "# initialize dicts and transfer data from master dictionary\n",
    "likes = {}\n",
    "likes = dicts['likes']\n",
    "\n",
    "loves = {}\n",
    "loves = dicts['loves']\n",
    "\n",
    "fines = {}\n",
    "fines = dicts['fines']\n",
    "\n",
    "goods = {}\n",
    "goods = dicts['goods']\n",
    "\n",
    "greats = {}\n",
    "greats = dicts['greats']\n",
    "\n",
    "imeans = {}\n",
    "imeans = dicts['imeans']\n",
    "\n",
    "mights = {}\n",
    "mights = dicts['mights']\n",
    "\n",
    "always = {}\n",
    "always = dicts['always']\n",
    "\n",
    "maybes = {}\n",
    "maybes = dicts['maybes']\n",
    "\n",
    "verys = {}\n",
    "verys = dicts['verys']"
   ]
  },
  {
   "cell_type": "markdown",
   "id": "a34d5eec",
   "metadata": {},
   "source": [
    "## Pipeline for outputs"
   ]
  },
  {
   "cell_type": "code",
   "execution_count": 9,
   "id": "631318d0",
   "metadata": {},
   "outputs": [],
   "source": [
    "targets = [likes, loves, fines, goods, greats, imeans, mights, always, maybes, verys]\n",
    "targets_str = ['likes', 'loves', 'fines', 'goods', 'greats', 'imeans', 'mights', 'always', 'maybes', 'verys']\n",
    "count = 0\n",
    "\n",
    "for target in targets:\n",
    "    # establish indices\n",
    "    indices = {key: [tpl[0] for tpl in value] for key, value in target.items()}\n",
    "    \n",
    "    # write out file\n",
    "    with open(targets_str[count]+\"_output.txt\", 'w') as file:\n",
    "    \n",
    "        import sys\n",
    "        sys.stdout = file\n",
    "        \n",
    "        for index in indices:\n",
    "            df = dfs[index]\n",
    "            print(index)\n",
    "            key = index\n",
    "            values = indices[key]\n",
    "            # give 20 lines of context\n",
    "            for v in values:\n",
    "                first = v - 10\n",
    "                last = v + 10\n",
    "                print(df.iloc[first:last])\n",
    "    count+=1\n",
    "            \n",
    "    sys.stdout = sys.__stdout__"
   ]
  },
  {
   "cell_type": "markdown",
   "id": "adb2f098",
   "metadata": {},
   "source": [
    "## Figures and Plots"
   ]
  },
  {
   "cell_type": "code",
   "execution_count": 10,
   "id": "2e1664d6",
   "metadata": {},
   "outputs": [
    {
     "data": {
      "image/png": "[encoded data removed]",
      "text/plain": [
       "<Figure size 640x480 with 1 Axes>"
      ]
     },
     "metadata": {},
     "output_type": "display_data"
    }
   ],
   "source": [
    "fig, ax = plt.subplots()\n",
    "\n",
    "keys = list(total_counts.keys())\n",
    "values = list(total_counts.values())\n",
    "\n",
    "ax.bar(keys, values)\n",
    "plt.xlabel('Target words')\n",
    "plt.ylabel('Word count')\n",
    "plt.title('Target word counts across all transcripts')\n",
    "\n",
    "plt.show()"
   ]
  }
 ],
 "metadata": {
  "kernelspec": {
   "display_name": "Python 3 (ipykernel)",
   "language": "python",
   "name": "python3"
  },
  "language_info": {
   "codemirror_mode": {
    "name": "ipython",
    "version": 3
   },
   "file_extension": ".py",
   "mimetype": "text/x-python",
   "name": "python",
   "nbconvert_exporter": "python",
   "pygments_lexer": "ipython3",
   "version": "3.11.4"
  }
 },
 "nbformat": 4,
 "nbformat_minor": 5
}
