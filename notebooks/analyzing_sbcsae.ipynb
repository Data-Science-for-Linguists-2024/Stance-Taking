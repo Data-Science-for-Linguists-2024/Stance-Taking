{
 "cells": [
  {
   "cell_type": "markdown",
   "id": "98d52c9b",
   "metadata": {},
   "source": [
    "Maya Asher, 4/8/24\n",
    "# Analyzing the SBCSAE\n",
    "**NEW CONTINUING**\n",
    "\n",
    "Using the processed data, which can be found [here](https://github.com/Data-Science-for-Linguists-2024/Stance-Taking-in-Spontaneous-Speech/blob/main/reprocessing_sbcsae.ipynb), we can begin our stance taking anaylsis."
   ]
  },
  {
   "cell_type": "markdown",
   "id": "4eb2cc9f",
   "metadata": {},
   "source": [
    "## Import"
   ]
  },
  {
   "cell_type": "code",
   "execution_count": 1,
   "id": "db968ba6",
   "metadata": {},
   "outputs": [
    {
     "name": "stdout",
     "output_type": "stream",
     "text": [
      "Pretty printing has been turned OFF\n"
     ]
    }
   ],
   "source": [
    "import pickle\n",
    "import pandas as pd\n",
    "import matplotlib.pyplot as plt\n",
    "import seaborn as sns\n",
    "%pprint"
   ]
  },
  {
   "cell_type": "markdown",
   "id": "82f3032e",
   "metadata": {},
   "source": [
    "## Unpickle"
   ]
  },
  {
   "cell_type": "code",
   "execution_count": 2,
   "id": "5b36f4a1",
   "metadata": {},
   "outputs": [],
   "source": [
    "f = open('df2col.pkl', 'rb')\n",
    "df2c = pickle.load(f)\n",
    "f.close()"
   ]
  },
  {
   "cell_type": "code",
   "execution_count": 3,
   "id": "81ab1d37",
   "metadata": {},
   "outputs": [],
   "source": [
    "f = open('df3col.pkl', 'rb')\n",
    "df3c = pickle.load(f)\n",
    "f.close()"
   ]
  },
  {
   "cell_type": "code",
   "execution_count": 4,
   "id": "a34b7197",
   "metadata": {},
   "outputs": [],
   "source": [
    "f = open('df4col.pkl', 'rb')\n",
    "df4c = pickle.load(f)\n",
    "f.close()"
   ]
  },
  {
   "cell_type": "code",
   "execution_count": 7,
   "id": "eaf9ec64",
   "metadata": {},
   "outputs": [
    {
     "data": {
      "text/plain": [
       "43"
      ]
     },
     "execution_count": 7,
     "metadata": {},
     "output_type": "execute_result"
    }
   ],
   "source": [
    "# got them all!\n",
    "len(df4c) + len(df3c) + len(df2c)"
   ]
  },
  {
   "cell_type": "markdown",
   "id": "5a116a05",
   "metadata": {},
   "source": [
    "## Object of analysis"
   ]
  }
 ],
 "metadata": {
  "kernelspec": {
   "display_name": "Python 3 (ipykernel)",
   "language": "python",
   "name": "python3"
  },
  "language_info": {
   "codemirror_mode": {
    "name": "ipython",
    "version": 3
   },
   "file_extension": ".py",
   "mimetype": "text/x-python",
   "name": "python",
   "nbconvert_exporter": "python",
   "pygments_lexer": "ipython3",
   "version": "3.11.4"
  }
 },
 "nbformat": 4,
 "nbformat_minor": 5
}
