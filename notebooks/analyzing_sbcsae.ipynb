{
 "cells": [
  {
   "cell_type": "markdown",
   "id": "98d52c9b",
   "metadata": {},
   "source": [
    "Maya Asher, 4/28/24\n",
    "# Analyzing the SBCSAE\n",
    "**NEW CONTINUING**\n",
    "\n",
    "Using the processed data (which can be found [here](https://github.com/Data-Science-for-Linguists-2024/Stance-Taking-in-Spontaneous-Speech/blob/main/reprocessing_sbcsae.ipynb)) we can begin our stance taking anaylsis."
   ]
  },
  {
   "cell_type": "markdown",
   "id": "68365a86",
   "metadata": {},
   "source": [
    "Table of Contents:\n",
    "1. [Object of analysis](#Object-of-analysis)\n",
    "2. [Preliminary tasks](#Preliminary-tasks)\n",
    "3. [Extract targets](#Extract-targets)\n",
    "4. [Pipeline for outputs](#Pipeline-for-outputs)\n",
    "5. [Quick visualization](#Quick-visualization)\n",
    "6. [Analyze the annotated data](#Analyze-the-annotated-data)\n",
    "7. [Visualizations](#Visualizations)\n",
    "8. [Statistical tests](#Statistical-tests)"
   ]
  },
  {
   "cell_type": "markdown",
   "id": "5a116a05",
   "metadata": {},
   "source": [
    "## Object of analysis\n",
    "**TL;DR**: This analysis will focus on lexical items and discourse markers that vary in their levels of investment (ex: *like* vs. *love*). This is based on a three dimensional model of analyzing stance and stanctaking explained in Kiesling (2022).\n",
    "### Background\n",
    "As Dr. Scott Kiesling discusses in his paper \"Stance and Stancetaking\" (2022), stance is how people position themselves in conversations and it can be analyzed using a three-dimensional model that encompasses **evaluation**, **alignment**, and **investment**. In a simple conversation, animator A evaluates an object, prompting animator B to also evaluate that object, resulting in an alignment or disalignment between the two interlocutors. Investment is the extent to which each person commits to their evaluation. \n",
    "\n",
    "So, for example, if I were to say \"I really love data science,\" I am indexing a large amount of investment to my evaluation of data science. Then, if my interlocutor were to respond, \"I kind of like data science,\" we are somewhat aligning by speaking of data science in a positive light, but they are indexing less investment in their evaluation than I am. \n",
    "\n",
    "In the example above, investment was indexed through the lexical items *really love* and *kind of like*, but an animator's level of investment can also be indicated through epistemicity and evidentiality.\n",
    "\n",
    "In this three-dimensional model of analysis, there are also three participant roles: the **author** who composes the essential text, the **animator** who produces the speech, and the **principal** who takes responsibility for the utterance. This idea will be explored later on in the analysis.\n",
    "### Current investigation\n",
    "With the idea of investment established, my focus for this project will be to identify lexical items that index varying levels of investment and analyze their contexts and frequencies, producing both qualitative and quantitative results that can be compared to one another. \n",
    "\n",
    "Specifically, I will look at lexical items and discourse markers that vary in thier predicted levels of investment (`like`, `love`, `fine`, `good`, `great`, `I mean`, `might`, `always`, `maybe`, and `very`). To do this, we will unpickle our dictionaries of data frames and begin our search for our target words.\n",
    "\n",
    "### Citation\n",
    "Kiesling, S. F. (2022). Stance and Stancetaking. *Annual Review of Linguistics*, 8, 409-426. https://doi.org/10.1146/annurev-linguistics-031120-121256"
   ]
  },
  {
   "cell_type": "markdown",
   "id": "4eb2cc9f",
   "metadata": {},
   "source": [
    "## Preliminary tasks\n",
    "### Import"
   ]
  },
  {
   "cell_type": "code",
   "execution_count": 1,
   "id": "db968ba6",
   "metadata": {},
   "outputs": [
    {
     "name": "stdout",
     "output_type": "stream",
     "text": [
      "Pretty printing has been turned OFF\n"
     ]
    }
   ],
   "source": [
    "import pickle\n",
    "import matplotlib.pyplot as plt\n",
    "import re\n",
    "import ast\n",
    "import pandas as pd\n",
    "import numpy as np\n",
    "from scipy.stats import f_oneway\n",
    "%pprint"
   ]
  },
  {
   "cell_type": "markdown",
   "id": "82f3032e",
   "metadata": {},
   "source": [
    "### Unpickle"
   ]
  },
  {
   "cell_type": "code",
   "execution_count": 2,
   "id": "5b36f4a1",
   "metadata": {},
   "outputs": [],
   "source": [
    "f = open('../all_dfs.pkl', 'rb')\n",
    "dfs = pickle.load(f)\n",
    "f.close()"
   ]
  },
  {
   "cell_type": "code",
   "execution_count": 3,
   "id": "b41ee589",
   "metadata": {},
   "outputs": [
    {
     "data": {
      "text/plain": [
       "43"
      ]
     },
     "execution_count": 3,
     "metadata": {},
     "output_type": "execute_result"
    }
   ],
   "source": [
    "len(dfs) # perfect!"
   ]
  },
  {
   "cell_type": "code",
   "execution_count": 4,
   "id": "1e3e9eb8",
   "metadata": {},
   "outputs": [
    {
     "data": {
      "text/html": [
       "<div>\n",
       "<style scoped>\n",
       "    .dataframe tbody tr th:only-of-type {\n",
       "        vertical-align: middle;\n",
       "    }\n",
       "\n",
       "    .dataframe tbody tr th {\n",
       "        vertical-align: top;\n",
       "    }\n",
       "\n",
       "    .dataframe thead th {\n",
       "        text-align: right;\n",
       "    }\n",
       "</style>\n",
       "<table border=\"1\" class=\"dataframe\">\n",
       "  <thead>\n",
       "    <tr style=\"text-align: right;\">\n",
       "      <th></th>\n",
       "      <th>time</th>\n",
       "      <th>speaker</th>\n",
       "      <th>text</th>\n",
       "    </tr>\n",
       "  </thead>\n",
       "  <tbody>\n",
       "    <tr>\n",
       "      <th>0</th>\n",
       "      <td>0.00 9.21</td>\n",
       "      <td>LENORE:</td>\n",
       "      <td>... So you don't need to go ... borrow equipme...</td>\n",
       "    </tr>\n",
       "    <tr>\n",
       "      <th>1</th>\n",
       "      <td>9.21 9.52</td>\n",
       "      <td></td>\n",
       "      <td>to --</td>\n",
       "    </tr>\n",
       "    <tr>\n",
       "      <th>2</th>\n",
       "      <td>9.52 14.10</td>\n",
       "      <td></td>\n",
       "      <td>... to do the feet?</td>\n",
       "    </tr>\n",
       "    <tr>\n",
       "      <th>3</th>\n",
       "      <td>14.10 15.78</td>\n",
       "      <td></td>\n",
       "      <td>... [Do the hooves]?</td>\n",
       "    </tr>\n",
       "    <tr>\n",
       "      <th>4</th>\n",
       "      <td>15.01 16.78</td>\n",
       "      <td>LYNNE:</td>\n",
       "      <td>[(H)=] &lt;YWN Well,</td>\n",
       "    </tr>\n",
       "  </tbody>\n",
       "</table>\n",
       "</div>"
      ],
      "text/plain": [
       "          time   speaker                                               text\n",
       "0    0.00 9.21  LENORE:   ... So you don't need to go ... borrow equipme...\n",
       "1    9.21 9.52                                                        to --\n",
       "2   9.52 14.10                                          ... to do the feet?\n",
       "3  14.10 15.78                                         ... [Do the hooves]?\n",
       "4  15.01 16.78  LYNNE:                                    [(H)=] <YWN Well,"
      ]
     },
     "execution_count": 4,
     "metadata": {},
     "output_type": "execute_result"
    }
   ],
   "source": [
    "dfs['SBC001.trn'].head()"
   ]
  },
  {
   "cell_type": "code",
   "execution_count": 5,
   "id": "c812d662",
   "metadata": {},
   "outputs": [
    {
     "data": {
      "text/html": [
       "<div>\n",
       "<style scoped>\n",
       "    .dataframe tbody tr th:only-of-type {\n",
       "        vertical-align: middle;\n",
       "    }\n",
       "\n",
       "    .dataframe tbody tr th {\n",
       "        vertical-align: top;\n",
       "    }\n",
       "\n",
       "    .dataframe thead th {\n",
       "        text-align: right;\n",
       "    }\n",
       "</style>\n",
       "<table border=\"1\" class=\"dataframe\">\n",
       "  <thead>\n",
       "    <tr style=\"text-align: right;\">\n",
       "      <th></th>\n",
       "      <th>time_start</th>\n",
       "      <th>time_end</th>\n",
       "      <th>speaker</th>\n",
       "      <th>text</th>\n",
       "    </tr>\n",
       "  </thead>\n",
       "  <tbody>\n",
       "    <tr>\n",
       "      <th>0</th>\n",
       "      <td>0.000</td>\n",
       "      <td>2.572</td>\n",
       "      <td>ALAN:</td>\n",
       "      <td>... (H) I got a story to tell you,</td>\n",
       "    </tr>\n",
       "    <tr>\n",
       "      <th>1</th>\n",
       "      <td>2.572</td>\n",
       "      <td>3.820</td>\n",
       "      <td></td>\n",
       "      <td>it's a shaggy dog story,</td>\n",
       "    </tr>\n",
       "    <tr>\n",
       "      <th>2</th>\n",
       "      <td>3.820</td>\n",
       "      <td>6.645</td>\n",
       "      <td></td>\n",
       "      <td>but as long as were talking about that record...</td>\n",
       "    </tr>\n",
       "    <tr>\n",
       "      <th>3</th>\n",
       "      <td>6.645</td>\n",
       "      <td>8.378</td>\n",
       "      <td></td>\n",
       "      <td>(H)= Ill tell you the story,</td>\n",
       "    </tr>\n",
       "    <tr>\n",
       "      <th>4</th>\n",
       "      <td>8.378</td>\n",
       "      <td>10.178</td>\n",
       "      <td></td>\n",
       "      <td>(H)= oh gosh,</td>\n",
       "    </tr>\n",
       "  </tbody>\n",
       "</table>\n",
       "</div>"
      ],
      "text/plain": [
       "   time_start  time_end speaker  \\\n",
       "0       0.000     2.572   ALAN:   \n",
       "1       2.572     3.820           \n",
       "2       3.820     6.645           \n",
       "3       6.645     8.378           \n",
       "4       8.378    10.178           \n",
       "\n",
       "                                                text  \n",
       "0                 ... (H) I got a story to tell you,  \n",
       "1                           it's a shaggy dog story,  \n",
       "2  but as long as were talking about that record...  \n",
       "3                      (H)= Ill tell you the story,  \n",
       "4                                      (H)= oh gosh,  "
      ]
     },
     "execution_count": 5,
     "metadata": {},
     "output_type": "execute_result"
    }
   ],
   "source": [
    "dfs['SBC060.trn'].head() # looks good!"
   ]
  },
  {
   "cell_type": "markdown",
   "id": "df45deba",
   "metadata": {},
   "source": [
    "## Extract targets\n",
    "The two *lexical items* we want are `like` and `love` and the eight *discourse markers* we want are `fine`, `good`, `great`, `I mean`, `might`, `always`, `maybe`, and `very`. \n",
    "\n",
    "\n",
    "We will create a dictionary for each word with the key being the file name (ex: `SBC001.trn`) and the value being a list of tuples that look like (row number, 'like' in context). Thankfully, we can work with `dfs` because all the `text` columns are labeled as such."
   ]
  },
  {
   "cell_type": "code",
   "execution_count": 6,
   "id": "0f1b1caf",
   "metadata": {},
   "outputs": [
    {
     "name": "stdout",
     "output_type": "stream",
     "text": [
      "Total occurrences of 'likes': 1188\n",
      "Total occurrences of 'loves': 68\n",
      "Total occurrences of 'fines': 63\n",
      "Total occurrences of 'goods': 390\n",
      "Total occurrences of 'greats': 115\n",
      "Total occurrences of 'imeans': 432\n",
      "Total occurrences of 'mights': 93\n",
      "Total occurrences of 'always': 159\n",
      "Total occurrences of 'maybes': 182\n",
      "Total occurrences of 'verys': 187\n",
      "Total occurrences: 2877\n"
     ]
    }
   ],
   "source": [
    "# master dictionary\n",
    "dicts = {\n",
    "    'likes': {}, 'loves': {}, 'fines': {}, 'goods': {}, 'greats': {},\n",
    "    'imeans': {}, 'mights': {}, 'always': {}, 'maybes': {}, 'verys': {}\n",
    "}\n",
    "\n",
    "# corresponding regexs\n",
    "terms = {\n",
    "    'likes': r'\\blike[^,]\\b', 'loves': r'\\blove\\b', 'fines': r'\\bfine\\b',\n",
    "    'goods': r'\\bgood\\b', 'greats': r'\\bgreat\\b', 'imeans': r'\\bI\\smean\\b',\n",
    "    'mights': r'\\bmight\\b', 'always': r'\\balways\\b', 'maybes': r'\\bmaybe\\b',\n",
    "    'verys': r'\\bvery\\b'\n",
    "}\n",
    "\n",
    "# initialize term counter\n",
    "total_counts = {key: 0 for key in terms}\n",
    "\n",
    "# process each df in `dfs`\n",
    "for df_name, df in dfs.items():\n",
    "    \n",
    "    for key, regex in terms.items():\n",
    "        \n",
    "        # extract rows where the target word is found in the text column\n",
    "        rows = df[df['text'].str.contains(regex, case=False, regex=True, na=False)]\n",
    "        \n",
    "        # list of tuples containing (row #, text) for each occurrence\n",
    "        occurrences = [(index, row['text']) for index, row in rows.iterrows()]\n",
    "        \n",
    "        # save occurrences in the corresponding dict\n",
    "        dicts[key][df_name] = occurrences\n",
    "        \n",
    "        # update total counts\n",
    "        total_counts[key] += len(occurrences)\n",
    "        \n",
    "# print total counts for each term\n",
    "running = 0\n",
    "for term, count in total_counts.items():\n",
    "    print(f\"Total occurrences of '{term}':\", count)\n",
    "    running += count\n",
    "print(\"Total occurrences:\", running)"
   ]
  },
  {
   "cell_type": "code",
   "execution_count": 7,
   "id": "ef62fd8a",
   "metadata": {},
   "outputs": [],
   "source": [
    "# initialize dicts and transfer data from master dictionary\n",
    "likes = {}\n",
    "likes = dicts['likes']\n",
    "\n",
    "loves = {}\n",
    "loves = dicts['loves']\n",
    "\n",
    "fines = {}\n",
    "fines = dicts['fines']\n",
    "\n",
    "goods = {}\n",
    "goods = dicts['goods']\n",
    "\n",
    "greats = {}\n",
    "greats = dicts['greats']\n",
    "\n",
    "imeans = {}\n",
    "imeans = dicts['imeans']\n",
    "\n",
    "mights = {}\n",
    "mights = dicts['mights']\n",
    "\n",
    "always = {}\n",
    "always = dicts['always']\n",
    "\n",
    "maybes = {}\n",
    "maybes = dicts['maybes']\n",
    "\n",
    "verys = {}\n",
    "verys = dicts['verys']"
   ]
  },
  {
   "cell_type": "markdown",
   "id": "a34d5eec",
   "metadata": {},
   "source": [
    "## Pipeline for outputs\n",
    "This code creates text files that show each occurrence of each target word in 20 lines of context. The output files can be found in the [`targets_w_context/`](https://github.com/Data-Science-for-Linguists-2024/Stance-Taking-in-Spontaneous-Speech/tree/main/targets_w_context) folder."
   ]
  },
  {
   "cell_type": "code",
   "execution_count": 8,
   "id": "631318d0",
   "metadata": {},
   "outputs": [
    {
     "name": "stdout",
     "output_type": "stream",
     "text": [
      "[(516, 'H')] [(820, 'L')] [(390, 'H')] []\n",
      "<class 'pandas.core.frame.DataFrame'>\n",
      "Index: 43 entries, SBC001 to SBC060\n",
      "Data columns (total 4 columns):\n",
      " #   Column  Non-Null Count  Dtype \n",
      "---  ------  --------------  ----- \n",
      " 0   Maybe   43 non-null     object\n",
      " 1   Love    43 non-null     object\n",
      " 2   Great   43 non-null     object\n",
      " 3   Fine    43 non-null     object\n",
      "dtypes: object(4)\n",
      "memory usage: 2.7+ KB\n",
      "F-Statistic: [ 9.53913139 19.64571181], P-value: [7.48271837e-06 5.76484848e-11]\n"
     ]
    }
   ],
   "source": [
    "targets = [likes, loves, fines, goods, greats, imeans, mights, always, maybes, verys]\n",
    "targets_str = ['likes', 'loves', 'fines', 'goods', 'greats', 'imeans', 'mights', 'always', 'maybes', 'verys']\n",
    "count = 0\n",
    "\n",
    "for target in targets:\n",
    "    # establish indices\n",
    "    indices = {key: [tpl[0] for tpl in value] for key, value in target.items()}\n",
    "    \n",
    "    # write out file\n",
    "    with open(targets_str[count]+\"_output.txt\", 'w') as file:\n",
    "    \n",
    "        import sys\n",
    "        sys.stdout = file\n",
    "        \n",
    "        for index in indices:\n",
    "            df = dfs[index]\n",
    "            print(index)\n",
    "            key = index\n",
    "            values = indices[key]\n",
    "            # give 20 lines of context\n",
    "            for v in values:\n",
    "                first = v - 10\n",
    "                last = v + 10\n",
    "                print(df.iloc[first:last])\n",
    "    count+=1\n",
    "            \n",
    "    sys.stdout = sys.__stdout__"
   ]
  },
  {
   "cell_type": "markdown",
   "id": "adb2f098",
   "metadata": {},
   "source": [
    "## Quick visualization\n",
    "We can see that there is an uneven distribution of target word counts, but that is most likely due to many factors like word frequency in spontaneous speech, word frequency in different dialects, and varying meanings for each word, among other things."
   ]
  },
  {
   "cell_type": "code",
   "execution_count": 9,
   "id": "2e1664d6",
   "metadata": {},
   "outputs": [
    {
     "data": {
      "image/png": "[encoded data removed]",
      "text/plain": [
       "<Figure size 640x480 with 1 Axes>"
      ]
     },
     "metadata": {},
     "output_type": "display_data"
    }
   ],
   "source": [
    "fig, ax = plt.subplots()\n",
    "\n",
    "keys = list(total_counts.keys())\n",
    "values = list(total_counts.values())\n",
    "\n",
    "ax.bar(keys, values)\n",
    "plt.xlabel('Target words')\n",
    "plt.ylabel('Word count')\n",
    "plt.title('Target word counts across all transcripts')\n",
    "\n",
    "plt.show()"
   ]
  },
  {
   "cell_type": "markdown",
   "id": "7bccf378",
   "metadata": {},
   "source": [
    "## Analyze the annotated data\n",
    "At the time of this analysis, only 4 of the 10 target words have been annotated, so we will only be focusing on the words `maybe`, `love`, `great`, and `fine`. The annotations can be found in [`annotations/`](https://github.com/Data-Science-for-Linguists-2024/Stance-Taking-in-Spontaneous-Speech/tree/main/annotations).\n",
    "\n",
    "### Importing as dictionaries\n",
    "Not all the files had the target words to begin with, so empty lists are to be expected."
   ]
  },
  {
   "cell_type": "code",
   "execution_count": 10,
   "id": "39eecf98",
   "metadata": {},
   "outputs": [],
   "source": [
    "with open('../annotations/love_dict.txt', 'r') as file:\n",
    "    data = file.read()\n",
    "    love_dict = ast.literal_eval(data)\n",
    "with open('../annotations/maybe_dict.txt', 'r') as file:\n",
    "    data = file.read()\n",
    "    maybe_dict = ast.literal_eval(data)   \n",
    "with open('../annotations/great_dict.txt', 'r') as file:\n",
    "    data = file.read()\n",
    "    great_dict = ast.literal_eval(data)\n",
    "with open('../annotations/fine_dict.txt', 'r') as file:\n",
    "    data = file.read()\n",
    "    fine_dict = ast.literal_eval(data)\n",
    "    \n",
    "# making sure it all imported...yup!\n",
    "print(love_dict['SBC060'], maybe_dict['SBC060'], great_dict['SBC060'], fine_dict['SBC060'])"
   ]
  },
  {
   "cell_type": "markdown",
   "id": "660b38ec",
   "metadata": {},
   "source": [
    "### Create a df\n",
    "Now let's combine all the dictionaries into one big dataframe."
   ]
  },
  {
   "cell_type": "code",
   "execution_count": 11,
   "id": "3591be2f",
   "metadata": {},
   "outputs": [],
   "source": [
    "# create a df with an index of filenames and columns for each target word\n",
    "df = pd.DataFrame(index=sorted(set(maybe_dict.keys()).union(love_dict.keys(), great_dict.keys(), fine_dict.keys())),\n",
    "                  columns=[\"Maybe\", \"Love\", \"Great\", \"Fine\"])\n",
    "\n",
    "# populate the df with the data\n",
    "for idx in df.index:\n",
    "    df.loc[idx, \"Maybe\"] = maybe_dict.get(idx, [])\n",
    "    df.loc[idx, \"Love\"] = love_dict.get(idx, [])\n",
    "    df.loc[idx, \"Great\"] = great_dict.get(idx, [])\n",
    "    df.loc[idx, \"Fine\"] = fine_dict.get(idx, [])\n",
    "\n",
    "df.fillna(\"[]\", inplace=True)  # replace NaNs with empty lists for clarity"
   ]
  },
  {
   "cell_type": "code",
   "execution_count": 12,
   "id": "9515c327",
   "metadata": {},
   "outputs": [
    {
     "data": {
      "text/html": [
       "<div>\n",
       "<style scoped>\n",
       "    .dataframe tbody tr th:only-of-type {\n",
       "        vertical-align: middle;\n",
       "    }\n",
       "\n",
       "    .dataframe tbody tr th {\n",
       "        vertical-align: top;\n",
       "    }\n",
       "\n",
       "    .dataframe thead th {\n",
       "        text-align: right;\n",
       "    }\n",
       "</style>\n",
       "<table border=\"1\" class=\"dataframe\">\n",
       "  <thead>\n",
       "    <tr style=\"text-align: right;\">\n",
       "      <th></th>\n",
       "      <th>Maybe</th>\n",
       "      <th>Love</th>\n",
       "      <th>Great</th>\n",
       "      <th>Fine</th>\n",
       "    </tr>\n",
       "  </thead>\n",
       "  <tbody>\n",
       "    <tr>\n",
       "      <th>SBC001</th>\n",
       "      <td>[(559, L), (929, L), (993, L), (994, L), (1239...</td>\n",
       "      <td>[]</td>\n",
       "      <td>[]</td>\n",
       "      <td>[]</td>\n",
       "    </tr>\n",
       "    <tr>\n",
       "      <th>SBC002</th>\n",
       "      <td>[(883, L), (1103, L), (1112, L), (1254, L), (1...</td>\n",
       "      <td>[]</td>\n",
       "      <td>[(205, H)]</td>\n",
       "      <td>[(1260, H)]</td>\n",
       "    </tr>\n",
       "    <tr>\n",
       "      <th>SBC003</th>\n",
       "      <td>[(1272, L)]</td>\n",
       "      <td>[(1008, H), (1262, H)]</td>\n",
       "      <td>[(163, H), (440, L), (534, H), (857, H), (869,...</td>\n",
       "      <td>[(198, L), (754, L), (778, L), (1176, L), (122...</td>\n",
       "    </tr>\n",
       "    <tr>\n",
       "      <th>SBC004</th>\n",
       "      <td>[(27, L), (292, L)]</td>\n",
       "      <td>[(68, H), (70, H), (163, H)]</td>\n",
       "      <td>[(26, H), (672, L)]</td>\n",
       "      <td>[(921, L)]</td>\n",
       "    </tr>\n",
       "    <tr>\n",
       "      <th>SBC005</th>\n",
       "      <td>[(325, L), (359, L), (360, L), (365, L), (366,...</td>\n",
       "      <td>[]</td>\n",
       "      <td>[]</td>\n",
       "      <td>[]</td>\n",
       "    </tr>\n",
       "  </tbody>\n",
       "</table>\n",
       "</div>"
      ],
      "text/plain": [
       "                                                    Maybe  \\\n",
       "SBC001  [(559, L), (929, L), (993, L), (994, L), (1239...   \n",
       "SBC002  [(883, L), (1103, L), (1112, L), (1254, L), (1...   \n",
       "SBC003                                        [(1272, L)]   \n",
       "SBC004                                [(27, L), (292, L)]   \n",
       "SBC005  [(325, L), (359, L), (360, L), (365, L), (366,...   \n",
       "\n",
       "                                Love  \\\n",
       "SBC001                            []   \n",
       "SBC002                            []   \n",
       "SBC003        [(1008, H), (1262, H)]   \n",
       "SBC004  [(68, H), (70, H), (163, H)]   \n",
       "SBC005                            []   \n",
       "\n",
       "                                                    Great  \\\n",
       "SBC001                                                 []   \n",
       "SBC002                                         [(205, H)]   \n",
       "SBC003  [(163, H), (440, L), (534, H), (857, H), (869,...   \n",
       "SBC004                                [(26, H), (672, L)]   \n",
       "SBC005                                                 []   \n",
       "\n",
       "                                                     Fine  \n",
       "SBC001                                                 []  \n",
       "SBC002                                        [(1260, H)]  \n",
       "SBC003  [(198, L), (754, L), (778, L), (1176, L), (122...  \n",
       "SBC004                                         [(921, L)]  \n",
       "SBC005                                                 []  "
      ]
     },
     "execution_count": 12,
     "metadata": {},
     "output_type": "execute_result"
    }
   ],
   "source": [
    "df.head()"
   ]
  },
  {
   "cell_type": "code",
   "execution_count": 13,
   "id": "51f976bd",
   "metadata": {},
   "outputs": [
    {
     "data": {
      "text/html": [
       "<div>\n",
       "<style scoped>\n",
       "    .dataframe tbody tr th:only-of-type {\n",
       "        vertical-align: middle;\n",
       "    }\n",
       "\n",
       "    .dataframe tbody tr th {\n",
       "        vertical-align: top;\n",
       "    }\n",
       "\n",
       "    .dataframe thead th {\n",
       "        text-align: right;\n",
       "    }\n",
       "</style>\n",
       "<table border=\"1\" class=\"dataframe\">\n",
       "  <thead>\n",
       "    <tr style=\"text-align: right;\">\n",
       "      <th></th>\n",
       "      <th>Maybe</th>\n",
       "      <th>Love</th>\n",
       "      <th>Great</th>\n",
       "      <th>Fine</th>\n",
       "    </tr>\n",
       "  </thead>\n",
       "  <tbody>\n",
       "    <tr>\n",
       "      <th>SBC056</th>\n",
       "      <td>[(283, L), (1503, L)]</td>\n",
       "      <td>[(917, H)]</td>\n",
       "      <td>[(87, H), (99, H), (105, H), (985, H), (1090, ...</td>\n",
       "      <td>[(108, H), (1249, L), (1561, L)]</td>\n",
       "    </tr>\n",
       "    <tr>\n",
       "      <th>SBC057</th>\n",
       "      <td>[]</td>\n",
       "      <td>[(172, H)]</td>\n",
       "      <td>[]</td>\n",
       "      <td>[(178, H), (508, H), (617, L), (659, H), (661,...</td>\n",
       "    </tr>\n",
       "    <tr>\n",
       "      <th>SBC058</th>\n",
       "      <td>[(187, L), (653, L), (666, L)]</td>\n",
       "      <td>[(244, H)]</td>\n",
       "      <td>[(748, H)]</td>\n",
       "      <td>[(869, L)]</td>\n",
       "    </tr>\n",
       "    <tr>\n",
       "      <th>SBC059</th>\n",
       "      <td>[(991, L), (1557, L), (1804, L), (1827, L)]</td>\n",
       "      <td>[(1335, H)]</td>\n",
       "      <td>[]</td>\n",
       "      <td>[(748, L)]</td>\n",
       "    </tr>\n",
       "    <tr>\n",
       "      <th>SBC060</th>\n",
       "      <td>[(820, L)]</td>\n",
       "      <td>[(516, H)]</td>\n",
       "      <td>[(390, H)]</td>\n",
       "      <td>[]</td>\n",
       "    </tr>\n",
       "  </tbody>\n",
       "</table>\n",
       "</div>"
      ],
      "text/plain": [
       "                                              Maybe         Love  \\\n",
       "SBC056                        [(283, L), (1503, L)]   [(917, H)]   \n",
       "SBC057                                           []   [(172, H)]   \n",
       "SBC058               [(187, L), (653, L), (666, L)]   [(244, H)]   \n",
       "SBC059  [(991, L), (1557, L), (1804, L), (1827, L)]  [(1335, H)]   \n",
       "SBC060                                   [(820, L)]   [(516, H)]   \n",
       "\n",
       "                                                    Great  \\\n",
       "SBC056  [(87, H), (99, H), (105, H), (985, H), (1090, ...   \n",
       "SBC057                                                 []   \n",
       "SBC058                                         [(748, H)]   \n",
       "SBC059                                                 []   \n",
       "SBC060                                         [(390, H)]   \n",
       "\n",
       "                                                     Fine  \n",
       "SBC056                   [(108, H), (1249, L), (1561, L)]  \n",
       "SBC057  [(178, H), (508, H), (617, L), (659, H), (661,...  \n",
       "SBC058                                         [(869, L)]  \n",
       "SBC059                                         [(748, L)]  \n",
       "SBC060                                                 []  "
      ]
     },
     "execution_count": 13,
     "metadata": {},
     "output_type": "execute_result"
    }
   ],
   "source": [
    "df.tail()"
   ]
  },
  {
   "cell_type": "code",
   "execution_count": 14,
   "id": "61bec3ff",
   "metadata": {},
   "outputs": [],
   "source": [
    "# looks good!\n",
    "df.info()"
   ]
  },
  {
   "cell_type": "code",
   "execution_count": 15,
   "id": "865b98a6",
   "metadata": {},
   "outputs": [
    {
     "data": {
      "text/html": [
       "<div>\n",
       "<style scoped>\n",
       "    .dataframe tbody tr th:only-of-type {\n",
       "        vertical-align: middle;\n",
       "    }\n",
       "\n",
       "    .dataframe tbody tr th {\n",
       "        vertical-align: top;\n",
       "    }\n",
       "\n",
       "    .dataframe thead th {\n",
       "        text-align: right;\n",
       "    }\n",
       "</style>\n",
       "<table border=\"1\" class=\"dataframe\">\n",
       "  <thead>\n",
       "    <tr style=\"text-align: right;\">\n",
       "      <th></th>\n",
       "      <th>Maybe</th>\n",
       "      <th>Love</th>\n",
       "      <th>Great</th>\n",
       "      <th>Fine</th>\n",
       "    </tr>\n",
       "  </thead>\n",
       "  <tbody>\n",
       "    <tr>\n",
       "      <th>count</th>\n",
       "      <td>43</td>\n",
       "      <td>43</td>\n",
       "      <td>43</td>\n",
       "      <td>43</td>\n",
       "    </tr>\n",
       "    <tr>\n",
       "      <th>unique</th>\n",
       "      <td>40</td>\n",
       "      <td>23</td>\n",
       "      <td>30</td>\n",
       "      <td>27</td>\n",
       "    </tr>\n",
       "    <tr>\n",
       "      <th>top</th>\n",
       "      <td>[]</td>\n",
       "      <td>[]</td>\n",
       "      <td>[]</td>\n",
       "      <td>[]</td>\n",
       "    </tr>\n",
       "    <tr>\n",
       "      <th>freq</th>\n",
       "      <td>4</td>\n",
       "      <td>21</td>\n",
       "      <td>14</td>\n",
       "      <td>17</td>\n",
       "    </tr>\n",
       "  </tbody>\n",
       "</table>\n",
       "</div>"
      ],
      "text/plain": [
       "       Maybe Love Great Fine\n",
       "count     43   43    43   43\n",
       "unique    40   23    30   27\n",
       "top       []   []    []   []\n",
       "freq       4   21    14   17"
      ]
     },
     "execution_count": 15,
     "metadata": {},
     "output_type": "execute_result"
    }
   ],
   "source": [
    "# \"maybe\" has the most occurrences across all transcripts\n",
    "# \"love\" has the least\n",
    "df.describe()"
   ]
  },
  {
   "cell_type": "markdown",
   "id": "691a4f1d",
   "metadata": {},
   "source": [
    "### Count up Hs and Ls"
   ]
  },
  {
   "cell_type": "code",
   "execution_count": 16,
   "id": "813c01f5",
   "metadata": {},
   "outputs": [],
   "source": [
    "# function that counts 'H' and 'L' in each list of tuples\n",
    "def count_h_l(tuples):\n",
    "    count_h = sum(1 for _, label in tuples if label == 'H')\n",
    "    count_l = sum(1 for _, label in tuples if label == 'L')\n",
    "    return count_h, count_l"
   ]
  },
  {
   "cell_type": "code",
   "execution_count": 17,
   "id": "219bab44",
   "metadata": {},
   "outputs": [],
   "source": [
    "# apply to each cell in the df\n",
    "df_counts = df.applymap(count_h_l)"
   ]
  },
  {
   "cell_type": "code",
   "execution_count": 18,
   "id": "c058c044",
   "metadata": {},
   "outputs": [],
   "source": [
    "# create new cols for total counts of H and L in each row\n",
    "df['Total H'] = df_counts.apply(lambda x: sum(item[0] for item in x), axis=1)\n",
    "df['Total L'] = df_counts.apply(lambda x: sum(item[1] for item in x), axis=1)"
   ]
  },
  {
   "cell_type": "code",
   "execution_count": 19,
   "id": "8ea4580d",
   "metadata": {},
   "outputs": [
    {
     "data": {
      "text/html": [
       "<div>\n",
       "<style scoped>\n",
       "    .dataframe tbody tr th:only-of-type {\n",
       "        vertical-align: middle;\n",
       "    }\n",
       "\n",
       "    .dataframe tbody tr th {\n",
       "        vertical-align: top;\n",
       "    }\n",
       "\n",
       "    .dataframe thead th {\n",
       "        text-align: right;\n",
       "    }\n",
       "</style>\n",
       "<table border=\"1\" class=\"dataframe\">\n",
       "  <thead>\n",
       "    <tr style=\"text-align: right;\">\n",
       "      <th></th>\n",
       "      <th>Maybe</th>\n",
       "      <th>Love</th>\n",
       "      <th>Great</th>\n",
       "      <th>Fine</th>\n",
       "      <th>Total H</th>\n",
       "      <th>Total L</th>\n",
       "    </tr>\n",
       "  </thead>\n",
       "  <tbody>\n",
       "    <tr>\n",
       "      <th>SBC001</th>\n",
       "      <td>[(559, L), (929, L), (993, L), (994, L), (1239...</td>\n",
       "      <td>[]</td>\n",
       "      <td>[]</td>\n",
       "      <td>[]</td>\n",
       "      <td>0</td>\n",
       "      <td>8</td>\n",
       "    </tr>\n",
       "    <tr>\n",
       "      <th>SBC002</th>\n",
       "      <td>[(883, L), (1103, L), (1112, L), (1254, L), (1...</td>\n",
       "      <td>[]</td>\n",
       "      <td>[(205, H)]</td>\n",
       "      <td>[(1260, H)]</td>\n",
       "      <td>2</td>\n",
       "      <td>7</td>\n",
       "    </tr>\n",
       "    <tr>\n",
       "      <th>SBC003</th>\n",
       "      <td>[(1272, L)]</td>\n",
       "      <td>[(1008, H), (1262, H)]</td>\n",
       "      <td>[(163, H), (440, L), (534, H), (857, H), (869,...</td>\n",
       "      <td>[(198, L), (754, L), (778, L), (1176, L), (122...</td>\n",
       "      <td>12</td>\n",
       "      <td>7</td>\n",
       "    </tr>\n",
       "    <tr>\n",
       "      <th>SBC004</th>\n",
       "      <td>[(27, L), (292, L)]</td>\n",
       "      <td>[(68, H), (70, H), (163, H)]</td>\n",
       "      <td>[(26, H), (672, L)]</td>\n",
       "      <td>[(921, L)]</td>\n",
       "      <td>4</td>\n",
       "      <td>4</td>\n",
       "    </tr>\n",
       "    <tr>\n",
       "      <th>SBC005</th>\n",
       "      <td>[(325, L), (359, L), (360, L), (365, L), (366,...</td>\n",
       "      <td>[]</td>\n",
       "      <td>[]</td>\n",
       "      <td>[]</td>\n",
       "      <td>0</td>\n",
       "      <td>12</td>\n",
       "    </tr>\n",
       "  </tbody>\n",
       "</table>\n",
       "</div>"
      ],
      "text/plain": [
       "                                                    Maybe  \\\n",
       "SBC001  [(559, L), (929, L), (993, L), (994, L), (1239...   \n",
       "SBC002  [(883, L), (1103, L), (1112, L), (1254, L), (1...   \n",
       "SBC003                                        [(1272, L)]   \n",
       "SBC004                                [(27, L), (292, L)]   \n",
       "SBC005  [(325, L), (359, L), (360, L), (365, L), (366,...   \n",
       "\n",
       "                                Love  \\\n",
       "SBC001                            []   \n",
       "SBC002                            []   \n",
       "SBC003        [(1008, H), (1262, H)]   \n",
       "SBC004  [(68, H), (70, H), (163, H)]   \n",
       "SBC005                            []   \n",
       "\n",
       "                                                    Great  \\\n",
       "SBC001                                                 []   \n",
       "SBC002                                         [(205, H)]   \n",
       "SBC003  [(163, H), (440, L), (534, H), (857, H), (869,...   \n",
       "SBC004                                [(26, H), (672, L)]   \n",
       "SBC005                                                 []   \n",
       "\n",
       "                                                     Fine  Total H  Total L  \n",
       "SBC001                                                 []        0        8  \n",
       "SBC002                                        [(1260, H)]        2        7  \n",
       "SBC003  [(198, L), (754, L), (778, L), (1176, L), (122...       12        7  \n",
       "SBC004                                         [(921, L)]        4        4  \n",
       "SBC005                                                 []        0       12  "
      ]
     },
     "execution_count": 19,
     "metadata": {},
     "output_type": "execute_result"
    }
   ],
   "source": [
    "df.head() # looks good!"
   ]
  },
  {
   "cell_type": "code",
   "execution_count": 20,
   "id": "8f5b6bc8",
   "metadata": {},
   "outputs": [
    {
     "data": {
      "text/html": [
       "<div>\n",
       "<style scoped>\n",
       "    .dataframe tbody tr th:only-of-type {\n",
       "        vertical-align: middle;\n",
       "    }\n",
       "\n",
       "    .dataframe tbody tr th {\n",
       "        vertical-align: top;\n",
       "    }\n",
       "\n",
       "    .dataframe thead th {\n",
       "        text-align: right;\n",
       "    }\n",
       "</style>\n",
       "<table border=\"1\" class=\"dataframe\">\n",
       "  <thead>\n",
       "    <tr style=\"text-align: right;\">\n",
       "      <th></th>\n",
       "      <th>Maybe</th>\n",
       "      <th>Love</th>\n",
       "      <th>Great</th>\n",
       "      <th>Fine</th>\n",
       "    </tr>\n",
       "  </thead>\n",
       "  <tbody>\n",
       "    <tr>\n",
       "      <th>SBC001</th>\n",
       "      <td>(0, 8)</td>\n",
       "      <td>(0, 0)</td>\n",
       "      <td>(0, 0)</td>\n",
       "      <td>(0, 0)</td>\n",
       "    </tr>\n",
       "    <tr>\n",
       "      <th>SBC002</th>\n",
       "      <td>(0, 7)</td>\n",
       "      <td>(0, 0)</td>\n",
       "      <td>(1, 0)</td>\n",
       "      <td>(1, 0)</td>\n",
       "    </tr>\n",
       "    <tr>\n",
       "      <th>SBC003</th>\n",
       "      <td>(0, 1)</td>\n",
       "      <td>(2, 0)</td>\n",
       "      <td>(10, 1)</td>\n",
       "      <td>(0, 5)</td>\n",
       "    </tr>\n",
       "    <tr>\n",
       "      <th>SBC004</th>\n",
       "      <td>(0, 2)</td>\n",
       "      <td>(3, 0)</td>\n",
       "      <td>(1, 1)</td>\n",
       "      <td>(0, 1)</td>\n",
       "    </tr>\n",
       "    <tr>\n",
       "      <th>SBC005</th>\n",
       "      <td>(0, 12)</td>\n",
       "      <td>(0, 0)</td>\n",
       "      <td>(0, 0)</td>\n",
       "      <td>(0, 0)</td>\n",
       "    </tr>\n",
       "  </tbody>\n",
       "</table>\n",
       "</div>"
      ],
      "text/plain": [
       "          Maybe    Love    Great    Fine\n",
       "SBC001   (0, 8)  (0, 0)   (0, 0)  (0, 0)\n",
       "SBC002   (0, 7)  (0, 0)   (1, 0)  (1, 0)\n",
       "SBC003   (0, 1)  (2, 0)  (10, 1)  (0, 5)\n",
       "SBC004   (0, 2)  (3, 0)   (1, 1)  (0, 1)\n",
       "SBC005  (0, 12)  (0, 0)   (0, 0)  (0, 0)"
      ]
     },
     "execution_count": 20,
     "metadata": {},
     "output_type": "execute_result"
    }
   ],
   "source": [
    "# (H, L)\n",
    "df_counts.head()"
   ]
  },
  {
   "cell_type": "markdown",
   "id": "c1762a26",
   "metadata": {},
   "source": [
    "Using `df_counts`, let's count up the totals for each target word"
   ]
  },
  {
   "cell_type": "code",
   "execution_count": 21,
   "id": "6eb6d383",
   "metadata": {},
   "outputs": [],
   "source": [
    "# function to count up number in tuples\n",
    "def sum_tuples(column):\n",
    "    # initialize counters\n",
    "    total_h = 0\n",
    "    total_l = 0\n",
    "    \n",
    "    # iterate through each tuple in the column\n",
    "    for h, l in column:\n",
    "        total_h += h\n",
    "        total_l += l\n",
    "        \n",
    "    return total_h, total_l"
   ]
  },
  {
   "cell_type": "code",
   "execution_count": 22,
   "id": "a9c758f5",
   "metadata": {},
   "outputs": [
    {
     "data": {
      "text/html": [
       "<div>\n",
       "<style scoped>\n",
       "    .dataframe tbody tr th:only-of-type {\n",
       "        vertical-align: middle;\n",
       "    }\n",
       "\n",
       "    .dataframe tbody tr th {\n",
       "        vertical-align: top;\n",
       "    }\n",
       "\n",
       "    .dataframe thead th {\n",
       "        text-align: right;\n",
       "    }\n",
       "</style>\n",
       "<table border=\"1\" class=\"dataframe\">\n",
       "  <thead>\n",
       "    <tr style=\"text-align: right;\">\n",
       "      <th></th>\n",
       "      <th>H</th>\n",
       "      <th>L</th>\n",
       "    </tr>\n",
       "  </thead>\n",
       "  <tbody>\n",
       "    <tr>\n",
       "      <th>Maybe</th>\n",
       "      <td>0</td>\n",
       "      <td>162</td>\n",
       "    </tr>\n",
       "    <tr>\n",
       "      <th>Love</th>\n",
       "      <td>51</td>\n",
       "      <td>0</td>\n",
       "    </tr>\n",
       "    <tr>\n",
       "      <th>Great</th>\n",
       "      <td>99</td>\n",
       "      <td>5</td>\n",
       "    </tr>\n",
       "    <tr>\n",
       "      <th>Fine</th>\n",
       "      <td>8</td>\n",
       "      <td>52</td>\n",
       "    </tr>\n",
       "  </tbody>\n",
       "</table>\n",
       "</div>"
      ],
      "text/plain": [
       "        H    L\n",
       "Maybe   0  162\n",
       "Love   51    0\n",
       "Great  99    5\n",
       "Fine    8   52"
      ]
     },
     "execution_count": 22,
     "metadata": {},
     "output_type": "execute_result"
    }
   ],
   "source": [
    "# apply the function to each column and store the results\n",
    "totals = {col: sum_tuples(df_counts[col]) for col in df_counts.columns}\n",
    "\n",
    "# convert the results to a DataFrame for nicer display\n",
    "totals_df = pd.DataFrame(totals, index=['H', 'L']).T  # .T to transpose for better readability\n",
    "\n",
    "totals_df"
   ]
  },
  {
   "cell_type": "markdown",
   "id": "6d1abd70",
   "metadata": {},
   "source": [
    "Looks like `maybe` and `love` are pretty decisive in the investment they convey, but `great` and `fine` have a bit of ambiguity depending on the context they are used in."
   ]
  },
  {
   "cell_type": "markdown",
   "id": "6516b8b4",
   "metadata": {},
   "source": [
    "## Visualizations\n",
    "To reorient ourselves, `H` stands for higher and `L` stands for lower, both refering to the level of investment the animator (or their subject) has in their evaluation. \n",
    "\n",
    "For example, if I said \"I *love* coding,\" I would label that utterance with `H`, but if I said \"Yeah, coding is *fine*,\" I would label that `L`.\n",
    "### H and L counts\n",
    "First, let's get the counts for Hs and Ls for each target word."
   ]
  },
  {
   "cell_type": "code",
   "execution_count": 23,
   "id": "f99669f3",
   "metadata": {},
   "outputs": [],
   "source": [
    "# function to aggregate H and L counts for each category\n",
    "def aggregate_counts(tuples):\n",
    "    total_h = sum(h for h, _ in tuples)\n",
    "    total_l = sum(l for _, l in tuples)\n",
    "    return total_h, total_l"
   ]
  },
  {
   "cell_type": "code",
   "execution_count": 24,
   "id": "d09ca3ef",
   "metadata": {},
   "outputs": [],
   "source": [
    "# apply to each column to get aggregated H and L counts\n",
    "category_totals = {col: aggregate_counts(df_counts[col]) for col in df_counts.columns}"
   ]
  },
  {
   "cell_type": "code",
   "execution_count": 25,
   "id": "abd4e65d",
   "metadata": {},
   "outputs": [],
   "source": [
    "# prepare data for plotting\n",
    "categories = list(category_totals.keys())\n",
    "h_counts = [category_totals[cat][0] for cat in categories]\n",
    "l_counts = [category_totals[cat][1] for cat in categories]\n",
    "index = np.arange(len(categories))"
   ]
  },
  {
   "cell_type": "code",
   "execution_count": 26,
   "id": "aabc2ff6",
   "metadata": {},
   "outputs": [
    {
     "data": {
      "image/png": "[encoded data removed]",
      "text/plain": [
       "<Figure size 640x480 with 1 Axes>"
      ]
     },
     "metadata": {},
     "output_type": "display_data"
    }
   ],
   "source": [
    "# set up the bar graph\n",
    "fig, ax = plt.subplots()\n",
    "bar_width = 0.35\n",
    "opacity = 0.8\n",
    "\n",
    "rects1 = ax.bar(index - bar_width/2, h_counts, bar_width, alpha=opacity, color='b', label='H')\n",
    "rects2 = ax.bar(index + bar_width/2, l_counts, bar_width, alpha=opacity, color='r', label='L')\n",
    "\n",
    "# add labels, title, and custom x-axis tick labels\n",
    "ax.set_xlabel('Targets')\n",
    "ax.set_ylabel('Counts')\n",
    "ax.set_title('Total Counts of H and L Across Target Categories')\n",
    "ax.set_xticks(index)\n",
    "ax.set_xticklabels(categories)\n",
    "ax.legend()\n",
    "\n",
    "plt.tight_layout()\n",
    "plt.savefig('hl_counts.png')\n",
    "plt.show()"
   ]
  },
  {
   "cell_type": "markdown",
   "id": "68e8c6f3",
   "metadata": {},
   "source": [
    "### NORMALIZED H and L counts\n",
    "Since the counts for each category vary greatly, let's use proportional scaling to normalize the data and re-plot it."
   ]
  },
  {
   "cell_type": "code",
   "execution_count": 27,
   "id": "80857c2f",
   "metadata": {},
   "outputs": [],
   "source": [
    "# normalize data by converting counts to proportions\n",
    "def normalize_counts(tuples):\n",
    "    total = sum(sum(tup) for tup in tuples)\n",
    "    if total == 0:\n",
    "        return [(0, 0)]  # Avoid division by zero, return a list of tuples\n",
    "    return [(h / total, l / total) for h, l in tuples]"
   ]
  },
  {
   "cell_type": "code",
   "execution_count": 28,
   "id": "bda308a9",
   "metadata": {},
   "outputs": [],
   "source": [
    "# normalize\n",
    "normalized_data = {col: normalize_counts(df_counts[col]) for col in df_counts.columns}\n",
    "\n",
    "# aggregate normalized data for each category\n",
    "category_totals = {col: (sum(h for h, _ in normalized_data[col]), sum(l for _, l in normalized_data[col])) for col in normalized_data.keys()}"
   ]
  },
  {
   "cell_type": "code",
   "execution_count": 29,
   "id": "23a9f285",
   "metadata": {},
   "outputs": [],
   "source": [
    "# prepare data for plotting\n",
    "categories = list(category_totals.keys())\n",
    "h_props = [category_totals[cat][0] for cat in categories]\n",
    "l_props = [category_totals[cat][1] for cat in categories]\n",
    "index = np.arange(len(categories))"
   ]
  },
  {
   "cell_type": "code",
   "execution_count": 30,
   "id": "9540ebee",
   "metadata": {},
   "outputs": [
    {
     "data": {
      "image/png": "[encoded data removed]",
      "text/plain": [
       "<Figure size 640x480 with 1 Axes>"
      ]
     },
     "metadata": {},
     "output_type": "display_data"
    }
   ],
   "source": [
    "# set up the bar graph\n",
    "fig, ax = plt.subplots()\n",
    "bar_width = 0.35\n",
    "opacity = 0.8\n",
    "\n",
    "rects1 = ax.bar(index - bar_width/2, h_props, bar_width, alpha=opacity, color='b', label='H')\n",
    "rects2 = ax.bar(index + bar_width/2, l_props, bar_width, alpha=opacity, color='r', label='L')\n",
    "\n",
    "# Adding labels, title, and custom x-axis tick labels\n",
    "ax.set_xlabel('Targets')\n",
    "ax.set_ylabel('Proportion')\n",
    "ax.set_title('Normalized Proportions of H and L Across Target Categories')\n",
    "ax.set_xticks(index)\n",
    "ax.set_xticklabels(categories)\n",
    "ax.legend()\n",
    "\n",
    "plt.tight_layout()\n",
    "plt.savefig('norm_counts.png')\n",
    "plt.show()"
   ]
  },
  {
   "cell_type": "markdown",
   "id": "a42ec47f",
   "metadata": {},
   "source": [
    "### Transcripts with the highest counts"
   ]
  },
  {
   "cell_type": "code",
   "execution_count": 31,
   "id": "b28a0a9e",
   "metadata": {},
   "outputs": [
    {
     "data": {
      "text/html": [
       "<div>\n",
       "<style scoped>\n",
       "    .dataframe tbody tr th:only-of-type {\n",
       "        vertical-align: middle;\n",
       "    }\n",
       "\n",
       "    .dataframe tbody tr th {\n",
       "        vertical-align: top;\n",
       "    }\n",
       "\n",
       "    .dataframe thead th {\n",
       "        text-align: right;\n",
       "    }\n",
       "</style>\n",
       "<table border=\"1\" class=\"dataframe\">\n",
       "  <thead>\n",
       "    <tr style=\"text-align: right;\">\n",
       "      <th></th>\n",
       "      <th>Maybe</th>\n",
       "      <th>Love</th>\n",
       "      <th>Great</th>\n",
       "      <th>Fine</th>\n",
       "      <th>Total H</th>\n",
       "      <th>Total L</th>\n",
       "    </tr>\n",
       "  </thead>\n",
       "  <tbody>\n",
       "    <tr>\n",
       "      <th>SBC003</th>\n",
       "      <td>[(1272, L)]</td>\n",
       "      <td>[(1008, H), (1262, H)]</td>\n",
       "      <td>[(163, H), (440, L), (534, H), (857, H), (869,...</td>\n",
       "      <td>[(198, L), (754, L), (778, L), (1176, L), (122...</td>\n",
       "      <td>12</td>\n",
       "      <td>7</td>\n",
       "    </tr>\n",
       "    <tr>\n",
       "      <th>SBC005</th>\n",
       "      <td>[(325, L), (359, L), (360, L), (365, L), (366,...</td>\n",
       "      <td>[]</td>\n",
       "      <td>[]</td>\n",
       "      <td>[]</td>\n",
       "      <td>0</td>\n",
       "      <td>12</td>\n",
       "    </tr>\n",
       "    <tr>\n",
       "      <th>SBC015</th>\n",
       "      <td>[(1896, L)]</td>\n",
       "      <td>[(236, H), (237, H), (1308, H), (1475, H), (14...</td>\n",
       "      <td>[(291, H), (855, L), (996, H), (1123, H), (112...</td>\n",
       "      <td>[(1049, L)]</td>\n",
       "      <td>11</td>\n",
       "      <td>3</td>\n",
       "    </tr>\n",
       "    <tr>\n",
       "      <th>SBC016</th>\n",
       "      <td>[(929, L), (1082, L), (1107, L), (1272, L)]</td>\n",
       "      <td>[(1000, H)]</td>\n",
       "      <td>[(713, H), (914, H), (1034, H), (1146, H), (11...</td>\n",
       "      <td>[(987, L), (989, L), (1267, L)]</td>\n",
       "      <td>11</td>\n",
       "      <td>7</td>\n",
       "    </tr>\n",
       "    <tr>\n",
       "      <th>SBC023</th>\n",
       "      <td>[(101, L), (151, L), (174, L), (292, L), (422,...</td>\n",
       "      <td>[]</td>\n",
       "      <td>[(912, H)]</td>\n",
       "      <td>[]</td>\n",
       "      <td>1</td>\n",
       "      <td>12</td>\n",
       "    </tr>\n",
       "  </tbody>\n",
       "</table>\n",
       "</div>"
      ],
      "text/plain": [
       "                                                    Maybe  \\\n",
       "SBC003                                        [(1272, L)]   \n",
       "SBC005  [(325, L), (359, L), (360, L), (365, L), (366,...   \n",
       "SBC015                                        [(1896, L)]   \n",
       "SBC016        [(929, L), (1082, L), (1107, L), (1272, L)]   \n",
       "SBC023  [(101, L), (151, L), (174, L), (292, L), (422,...   \n",
       "\n",
       "                                                     Love  \\\n",
       "SBC003                             [(1008, H), (1262, H)]   \n",
       "SBC005                                                 []   \n",
       "SBC015  [(236, H), (237, H), (1308, H), (1475, H), (14...   \n",
       "SBC016                                        [(1000, H)]   \n",
       "SBC023                                                 []   \n",
       "\n",
       "                                                    Great  \\\n",
       "SBC003  [(163, H), (440, L), (534, H), (857, H), (869,...   \n",
       "SBC005                                                 []   \n",
       "SBC015  [(291, H), (855, L), (996, H), (1123, H), (112...   \n",
       "SBC016  [(713, H), (914, H), (1034, H), (1146, H), (11...   \n",
       "SBC023                                         [(912, H)]   \n",
       "\n",
       "                                                     Fine  Total H  Total L  \n",
       "SBC003  [(198, L), (754, L), (778, L), (1176, L), (122...       12        7  \n",
       "SBC005                                                 []        0       12  \n",
       "SBC015                                        [(1049, L)]       11        3  \n",
       "SBC016                    [(987, L), (989, L), (1267, L)]       11        7  \n",
       "SBC023                                                 []        1       12  "
      ]
     },
     "execution_count": 31,
     "metadata": {},
     "output_type": "execute_result"
    }
   ],
   "source": [
    "# subset with Hs and Ls that are larger than 10\n",
    "above10 = df[(df['Total H'] > 10) | (df['Total L'] > 10)]\n",
    "above10.head()"
   ]
  },
  {
   "cell_type": "code",
   "execution_count": 32,
   "id": "07e4e3d5",
   "metadata": {},
   "outputs": [
    {
     "data": {
      "text/plain": [
       "10"
      ]
     },
     "execution_count": 32,
     "metadata": {},
     "output_type": "execute_result"
    }
   ],
   "source": [
    "len(above10)"
   ]
  },
  {
   "cell_type": "code",
   "execution_count": 33,
   "id": "18c5282d",
   "metadata": {},
   "outputs": [
    {
     "data": {
      "image/png": "[encoded data removed]",
      "text/plain": [
       "<Figure size 1000x800 with 1 Axes>"
      ]
     },
     "metadata": {},
     "output_type": "display_data"
    }
   ],
   "source": [
    "# set up the bar graph\n",
    "fig, ax = plt.subplots(figsize=(10, 8))\n",
    "index = np.arange(len(above10))  # the label locations\n",
    "bar_width = 0.35  # the width of the bars\n",
    "\n",
    "rects1 = ax.bar(index - bar_width/2, above10['Total H'], bar_width, label='H', color='blue')\n",
    "rects2 = ax.bar(index + bar_width/2, above10['Total L'], bar_width, label='L', color='red')\n",
    "\n",
    "# add labels, title and custom x-axis tick labels, etc.\n",
    "ax.set_xlabel('Transcripts')\n",
    "ax.set_ylabel('Total Counts')\n",
    "ax.set_title('Top Counts Across Target Categories by Transcript')\n",
    "ax.set_xticks(index)\n",
    "ax.set_xticklabels(above10.index)\n",
    "ax.legend()\n",
    "\n",
    "# rotate the tick labels for better visibility\n",
    "plt.xticks(rotation=45)\n",
    "plt.tight_layout()\n",
    "\n",
    "plt.savefig('top_counts.png')\n",
    "plt.show()"
   ]
  },
  {
   "cell_type": "markdown",
   "id": "05fea3df",
   "metadata": {},
   "source": [
    "## Statistical tests\n",
    "My data doesn't really warrant any statistical tests, but I will run a couple because it is good practice. Let's run a One-Way ANOVA test with the normalized data."
   ]
  },
  {
   "cell_type": "code",
   "execution_count": 34,
   "id": "0bdcfbe4",
   "metadata": {},
   "outputs": [],
   "source": [
    "# One-Way ANOVA\n",
    "f_stat, p_value = f_oneway(normalized_data['Maybe'],\n",
    "                           normalized_data['Love'],\n",
    "                           normalized_data['Great'],\n",
    "                           normalized_data['Fine'])\n",
    "\n",
    "print(f\"F-Statistic: {f_stat}, P-value: {p_value}\")\n"
   ]
  },
  {
   "cell_type": "markdown",
   "id": "a7f5695f",
   "metadata": {},
   "source": [
    "The output has high F-Stats and low P-values, so the groups are statistically significant. This makes sense because the groups (the target words) vary drastically. This ANOVA test doesn't really tell us much, but was good to conduct anyway. "
   ]
  }
 ],
 "metadata": {
  "kernelspec": {
   "display_name": "Python 3 (ipykernel)",
   "language": "python",
   "name": "python3"
  },
  "language_info": {
   "codemirror_mode": {
    "name": "ipython",
    "version": 3
   },
   "file_extension": ".py",
   "mimetype": "text/x-python",
   "name": "python",
   "nbconvert_exporter": "python",
   "pygments_lexer": "ipython3",
   "version": "3.11.4"
  }
 },
 "nbformat": 4,
 "nbformat_minor": 5
}
