{
 "cells": [
  {
   "cell_type": "markdown",
   "id": "98d52c9b",
   "metadata": {},
   "source": [
    "Maya Asher, 4/9/24\n",
    "# Analyzing the SBCSAE\n",
    "**NEW CONTINUING**\n",
    "\n",
    "Using the processed data (which can be found [here](https://github.com/Data-Science-for-Linguists-2024/Stance-Taking-in-Spontaneous-Speech/blob/main/reprocessing_sbcsae.ipynb)) we can begin our stance taking anaylsis."
   ]
  },
  {
   "cell_type": "markdown",
   "id": "5a116a05",
   "metadata": {},
   "source": [
    "## Object of analysis\n",
    "**TL;DR**: This analysis will focus on lexical items that vary in their levels of investment (*like* vs. *love* and *don't like* vs. *hate*). This is based on a three dimensional model of analyzing stance and stanctaking explained in Kiesling (2022).\n",
    "### Background\n",
    "As Dr. Scott Kiesling discusses in his paper \"Stance and Stancetaking\" (2022), stance is how people position themselves in conversations and it can be analyzed using a three-dimensional model that encompasses **evaluation**, **alignment**, and **investment**. In a simple conversation, animator A evaluates an object, prompting animator B to also evaluate that object, resulting in an alignment or disalignment between the two interlocutors. Investment is the extent to which each person commits to their evaluation. \n",
    "\n",
    "So, for example, if I were to say \"I really love data science,\" I am indexing a large amount of investment to my evaluation of data science. Then, if my interlocutor were to respond, \"I kind of like data science,\" we are somewhat aligning by speaking of data science in a positive light, but they are indexing less investment in their evaluation than I am. \n",
    "\n",
    "In the example above, investment was indexed through the lexical items *really love* and *kind of like*, but an animator's level of investment can also be indicated through epistemicity and evidentiality.\n",
    "\n",
    "In this three-dimensional model of analysis, there are also three participant roles: the **author** who composes the essential text, the **animator** who produces the speech, and the **principal** who takes responsibility for the utterance. This idea will be explored later on in the analysis.\n",
    "### Current investigation\n",
    "With the idea of investment established, my focus for this project will be to identify lexical items that index varying levels of investment and analyze their contexts and frequencies, producing both qualitative and quantitative results that can be compared to one another. \n",
    "\n",
    "Specifically, I will look at *like* vs. *love* and *don't like* vs. *hate*, both varying in levels of investment but the former being positive and the latter being negative. To do this, we will unpickle our dictionaries of data frames and begin our search for our target words.\n",
    "\n",
    "### Citation\n",
    "Kiesling, S. F. (2022). Stance and Stancetaking. *Annual Review of Linguistics*, 8, 409-426. https://doi.org/10.1146/annurev-linguistics-031120-121256"
   ]
  },
  {
   "cell_type": "markdown",
   "id": "4eb2cc9f",
   "metadata": {},
   "source": [
    "## Import"
   ]
  },
  {
   "cell_type": "code",
   "execution_count": 1,
   "id": "db968ba6",
   "metadata": {},
   "outputs": [
    {
     "name": "stdout",
     "output_type": "stream",
     "text": [
      "Pretty printing has been turned OFF\n"
     ]
    }
   ],
   "source": [
    "import pickle\n",
    "import pandas as pd\n",
    "import matplotlib.pyplot as plt\n",
    "import seaborn as sns\n",
    "import re\n",
    "%pprint"
   ]
  },
  {
   "cell_type": "markdown",
   "id": "82f3032e",
   "metadata": {},
   "source": [
    "## Unpickle"
   ]
  },
  {
   "cell_type": "code",
   "execution_count": 2,
   "id": "5b36f4a1",
   "metadata": {},
   "outputs": [],
   "source": [
    "f = open('all_dfs.pkl', 'rb')\n",
    "dfs = pickle.load(f)\n",
    "f.close()"
   ]
  },
  {
   "cell_type": "code",
   "execution_count": 3,
   "id": "5a850b8f",
   "metadata": {},
   "outputs": [],
   "source": [
    "f = open('df2col.pkl', 'rb')\n",
    "df2c = pickle.load(f)\n",
    "f.close()"
   ]
  },
  {
   "cell_type": "code",
   "execution_count": 4,
   "id": "81ab1d37",
   "metadata": {},
   "outputs": [],
   "source": [
    "f = open('df3col.pkl', 'rb')\n",
    "df3c = pickle.load(f)\n",
    "f.close()"
   ]
  },
  {
   "cell_type": "code",
   "execution_count": 5,
   "id": "a34b7197",
   "metadata": {},
   "outputs": [],
   "source": [
    "f = open('df4col.pkl', 'rb')\n",
    "df4c = pickle.load(f)\n",
    "f.close()"
   ]
  },
  {
   "cell_type": "code",
   "execution_count": 6,
   "id": "a64b38ed",
   "metadata": {},
   "outputs": [
    {
     "name": "stdout",
     "output_type": "stream",
     "text": [
      "dict_keys(['SBC001.trn', 'SBC002.trn', 'SBC003.trn', 'SBC004.trn', 'SBC005.trn', 'SBC006.trn', 'SBC007.trn', 'SBC008.trn', 'SBC009.trn', 'SBC010.trn', 'SBC011.trn', 'SBC013.trn']) dict_keys(['SBC014.trn']) dict_keys(['SBC015.trn', 'SBC016.trn', 'SBC017.trn', 'SBC018.trn', 'SBC019.trn', 'SBC022.trn', 'SBC023.trn', 'SBC024.trn', 'SBC029.trn', 'SBC031.trn', 'SBC032.trn', 'SBC033.trn', 'SBC034.trn', 'SBC035.trn', 'SBC036.trn', 'SBC037.trn', 'SBC042.trn', 'SBC043.trn', 'SBC044.trn', 'SBC045.trn', 'SBC047.trn', 'SBC048.trn', 'SBC049.trn', 'SBC050.trn', 'SBC051.trn', 'SBC056.trn', 'SBC057.trn', 'SBC058.trn', 'SBC059.trn', 'SBC060.trn'])\n"
     ]
    }
   ],
   "source": [
    "# looks good\n",
    "print(df3c.keys(), df2c.keys(), df4c.keys())"
   ]
  },
  {
   "cell_type": "code",
   "execution_count": 7,
   "id": "eaf9ec64",
   "metadata": {},
   "outputs": [
    {
     "data": {
      "text/plain": [
       "43"
      ]
     },
     "execution_count": 7,
     "metadata": {},
     "output_type": "execute_result"
    }
   ],
   "source": [
    "# got them all!\n",
    "len(df4c) + len(df3c) + len(df2c)"
   ]
  },
  {
   "cell_type": "code",
   "execution_count": 8,
   "id": "b41ee589",
   "metadata": {},
   "outputs": [
    {
     "data": {
      "text/plain": [
       "43"
      ]
     },
     "execution_count": 8,
     "metadata": {},
     "output_type": "execute_result"
    }
   ],
   "source": [
    "# perfect!\n",
    "len(dfs)"
   ]
  },
  {
   "cell_type": "markdown",
   "id": "ad4c4804",
   "metadata": {},
   "source": [
    "## Investigate text\n",
    "Since we labeled each dictionary's df columns the same (at least for `text`), we can use the dictionary that has ALL of the dfs!"
   ]
  },
  {
   "cell_type": "code",
   "execution_count": 9,
   "id": "dd4925c8",
   "metadata": {},
   "outputs": [
    {
     "data": {
      "text/html": [
       "<div>\n",
       "<style scoped>\n",
       "    .dataframe tbody tr th:only-of-type {\n",
       "        vertical-align: middle;\n",
       "    }\n",
       "\n",
       "    .dataframe tbody tr th {\n",
       "        vertical-align: top;\n",
       "    }\n",
       "\n",
       "    .dataframe thead th {\n",
       "        text-align: right;\n",
       "    }\n",
       "</style>\n",
       "<table border=\"1\" class=\"dataframe\">\n",
       "  <thead>\n",
       "    <tr style=\"text-align: right;\">\n",
       "      <th></th>\n",
       "      <th>time_speaker</th>\n",
       "      <th>text</th>\n",
       "    </tr>\n",
       "  </thead>\n",
       "  <tbody>\n",
       "    <tr>\n",
       "      <th>0</th>\n",
       "      <td>0.00 2.53  FRED:</td>\n",
       "      <td>... Okay.</td>\n",
       "    </tr>\n",
       "    <tr>\n",
       "      <th>1</th>\n",
       "      <td>2.53 4.73</td>\n",
       "      <td>One= large loan (Hx),</td>\n",
       "    </tr>\n",
       "    <tr>\n",
       "      <th>2</th>\n",
       "      <td>4.73 6.23</td>\n",
       "      <td>... renewed (Hx),</td>\n",
       "    </tr>\n",
       "    <tr>\n",
       "      <th>3</th>\n",
       "      <td>6.23 8.08</td>\n",
       "      <td>... a hundred ninety-seven= .. thousand,</td>\n",
       "    </tr>\n",
       "    <tr>\n",
       "      <th>4</th>\n",
       "      <td>8.08 9.23</td>\n",
       "      <td>a hundred eighty dollars.</td>\n",
       "    </tr>\n",
       "  </tbody>\n",
       "</table>\n",
       "</div>"
      ],
      "text/plain": [
       "          time_speaker                                      text\n",
       "0  0.00 2.53  FRED:                                    ... Okay.\n",
       "1   2.53 4.73                              One= large loan (Hx),\n",
       "2   4.73 6.23                                  ... renewed (Hx),\n",
       "3   6.23 8.08           ... a hundred ninety-seven= .. thousand,\n",
       "4   8.08 9.23                          a hundred eighty dollars."
      ]
     },
     "execution_count": 9,
     "metadata": {},
     "output_type": "execute_result"
    }
   ],
   "source": [
    "dfs[\"SBC014.trn\"].head() # 2 col"
   ]
  },
  {
   "cell_type": "code",
   "execution_count": 10,
   "id": "1beb36fd",
   "metadata": {},
   "outputs": [
    {
     "data": {
      "text/html": [
       "<div>\n",
       "<style scoped>\n",
       "    .dataframe tbody tr th:only-of-type {\n",
       "        vertical-align: middle;\n",
       "    }\n",
       "\n",
       "    .dataframe tbody tr th {\n",
       "        vertical-align: top;\n",
       "    }\n",
       "\n",
       "    .dataframe thead th {\n",
       "        text-align: right;\n",
       "    }\n",
       "</style>\n",
       "<table border=\"1\" class=\"dataframe\">\n",
       "  <thead>\n",
       "    <tr style=\"text-align: right;\">\n",
       "      <th></th>\n",
       "      <th>time</th>\n",
       "      <th>speaker</th>\n",
       "      <th>text</th>\n",
       "    </tr>\n",
       "  </thead>\n",
       "  <tbody>\n",
       "    <tr>\n",
       "      <th>0</th>\n",
       "      <td>0.00 1.24</td>\n",
       "      <td>KEVIN:</td>\n",
       "      <td>Is that just [carbonated water]?</td>\n",
       "    </tr>\n",
       "    <tr>\n",
       "      <th>1</th>\n",
       "      <td>0.45 1.24</td>\n",
       "      <td>WENDY:</td>\n",
       "      <td>[No thank you].</td>\n",
       "    </tr>\n",
       "    <tr>\n",
       "      <th>2</th>\n",
       "      <td>1.24 1.50</td>\n",
       "      <td></td>\n",
       "      <td>[2No,</td>\n",
       "    </tr>\n",
       "    <tr>\n",
       "      <th>3</th>\n",
       "      <td>1.24 3.38</td>\n",
       "      <td>KEN:</td>\n",
       "      <td>[2(H) No this is2] crea=m [3soda.</td>\n",
       "    </tr>\n",
       "    <tr>\n",
       "      <th>4</th>\n",
       "      <td>1.50 2.36</td>\n",
       "      <td>WENDY:</td>\n",
       "      <td>It's cream soda2].</td>\n",
       "    </tr>\n",
       "  </tbody>\n",
       "</table>\n",
       "</div>"
      ],
      "text/plain": [
       "        time   speaker                               text\n",
       "0  0.00 1.24  KEVIN:     Is that just [carbonated water]?\n",
       "1  0.45 1.24  WENDY:                      [No thank you].\n",
       "2  1.24 1.50                                        [2No,\n",
       "3  1.24 3.38  KEN:      [2(H) No this is2] crea=m [3soda.\n",
       "4  1.50 2.36  WENDY:                   It's cream soda2]."
      ]
     },
     "execution_count": 10,
     "metadata": {},
     "output_type": "execute_result"
    }
   ],
   "source": [
    "dfs[\"SBC013.trn\"].head() # 3 col"
   ]
  },
  {
   "cell_type": "code",
   "execution_count": 11,
   "id": "81765a21",
   "metadata": {},
   "outputs": [
    {
     "data": {
      "text/html": [
       "<div>\n",
       "<style scoped>\n",
       "    .dataframe tbody tr th:only-of-type {\n",
       "        vertical-align: middle;\n",
       "    }\n",
       "\n",
       "    .dataframe tbody tr th {\n",
       "        vertical-align: top;\n",
       "    }\n",
       "\n",
       "    .dataframe thead th {\n",
       "        text-align: right;\n",
       "    }\n",
       "</style>\n",
       "<table border=\"1\" class=\"dataframe\">\n",
       "  <thead>\n",
       "    <tr style=\"text-align: right;\">\n",
       "      <th></th>\n",
       "      <th>time_start</th>\n",
       "      <th>time_end</th>\n",
       "      <th>speaker</th>\n",
       "      <th>text</th>\n",
       "    </tr>\n",
       "  </thead>\n",
       "  <tbody>\n",
       "    <tr>\n",
       "      <th>0</th>\n",
       "      <td>2.660</td>\n",
       "      <td>2.805</td>\n",
       "      <td>JOANNE:</td>\n",
       "      <td>But,</td>\n",
       "    </tr>\n",
       "    <tr>\n",
       "      <th>1</th>\n",
       "      <td>2.805</td>\n",
       "      <td>4.685</td>\n",
       "      <td></td>\n",
       "      <td>so these slides &lt;X should X&gt; be real interesting.</td>\n",
       "    </tr>\n",
       "    <tr>\n",
       "      <th>2</th>\n",
       "      <td>6.140</td>\n",
       "      <td>6.325</td>\n",
       "      <td>KEN:</td>\n",
       "      <td>... Yeah.</td>\n",
       "    </tr>\n",
       "    <tr>\n",
       "      <th>3</th>\n",
       "      <td>6.325</td>\n",
       "      <td>7.710</td>\n",
       "      <td></td>\n",
       "      <td>I think it'll be real interesting</td>\n",
       "    </tr>\n",
       "    <tr>\n",
       "      <th>4</th>\n",
       "      <td>7.710</td>\n",
       "      <td>8.535</td>\n",
       "      <td></td>\n",
       "      <td>I think it'll be a real,</td>\n",
       "    </tr>\n",
       "  </tbody>\n",
       "</table>\n",
       "</div>"
      ],
      "text/plain": [
       "   time_start  time_end  speaker  \\\n",
       "0       2.660     2.805  JOANNE:   \n",
       "1       2.805     4.685            \n",
       "2       6.140     6.325     KEN:   \n",
       "3       6.325     7.710            \n",
       "4       7.710     8.535            \n",
       "\n",
       "                                                text  \n",
       "0                                               But,  \n",
       "1  so these slides <X should X> be real interesting.  \n",
       "2                                          ... Yeah.  \n",
       "3                  I think it'll be real interesting  \n",
       "4                           I think it'll be a real,  "
      ]
     },
     "execution_count": 11,
     "metadata": {},
     "output_type": "execute_result"
    }
   ],
   "source": [
    "dfs[\"SBC015.trn\"].head() # 4 col"
   ]
  },
  {
   "cell_type": "markdown",
   "id": "df45deba",
   "metadata": {},
   "source": [
    "## Extract target words\n",
    "The four (well, five) words we want are 'like', 'love', 'don't like', and 'hate'. We will create a dictionary for each word with the key being the file name (ex: `SBC001.trn`) and the value being a list of tuples that look like (row number, 'like' in context). Thankfully, we can work with `dfs` because all the `text` columns are labeled as such."
   ]
  },
  {
   "cell_type": "code",
   "execution_count": 12,
   "id": "0cd56d2f",
   "metadata": {},
   "outputs": [],
   "source": [
    "likes = {}\n",
    "loves = {}\n",
    "dontlikes = {}\n",
    "hates = {}\n",
    "\n",
    "# iterate through each df in the dict\n",
    "for df_name, df in dfs.items():\n",
    "    \n",
    "    # extract rows where the target word is found in the text column\n",
    "    like_rows = df[df['text'].str.contains(r'\\blike\\b', case=False, regex=True)]\n",
    "    love_rows = df[df['text'].str.contains(r'\\blove\\b', case=False, regex=True)]\n",
    "    dontlike_rows = df[df['text'].str.contains(r\"\\bdon't like\\b\", case=False, regex=True)]\n",
    "    hate_rows = df[df['text'].str.contains(r'\\bhate\\b', case=False, regex=True)]\n",
    "    \n",
    "    # list of tuples containing (row #, text) for each occurrence\n",
    "    like_occurrences = [(index, row['text']) for index, row in like_rows.iterrows()]\n",
    "    love_occurrences = [(index, row['text']) for index, row in love_rows.iterrows()]\n",
    "    dontlike_occurrences = [(index, row['text']) for index, row in dontlike_rows.iterrows()]\n",
    "    hate_occurrences = [(index, row['text']) for index, row in hate_rows.iterrows()]\n",
    "    \n",
    "    # save the occurrences in the dict\n",
    "    likes[df_name] = like_occurrences\n",
    "    loves[df_name] = love_occurrences\n",
    "    dontlikes[df_name] = dontlike_occurrences\n",
    "    hates[df_name] = hate_occurrences"
   ]
  },
  {
   "cell_type": "markdown",
   "id": "da4c8495",
   "metadata": {},
   "source": [
    "I can't flash `likes` because it is too large, but the other dictionaries relatively sparse. Hopefully there will still be enough qualitative information that can be extracted, but I worry that there will be no sufficient quantitative data. I may change the target words...especially the \"don't like\" vs \"hate\"..."
   ]
  },
  {
   "cell_type": "code",
   "execution_count": 13,
   "id": "afa2bca0",
   "metadata": {},
   "outputs": [
    {
     "data": {
      "text/plain": [
       "{'SBC001.trn': [], 'SBC002.trn': [], 'SBC003.trn': [(1008, \"I'd love to do gray water,\"), (1262, '... Oh I love green beans.')], 'SBC004.trn': [(68, '[2They love to --'), (70, '.. They love to point it out when <X I X>2] --'), (163, '                            [3I love it @>3].')], 'SBC005.trn': [(427, '... Love?'), (429, '[<VOX Love]?'), (431, '(H) Could [2I2] love you?'), (435, \"(H) Could I love you while I'm here VOX>?\"), (503, '... love fills the stockings.'), (515, 'adults around who love you.')], 'SBC006.trn': [], 'SBC007.trn': [], 'SBC008.trn': [], 'SBC009.trn': [], 'SBC010.trn': [], 'SBC011.trn': [(80, '... and I love you,')], 'SBC013.trn': [(1859, '... <VOX True love VOX>.'), (1961, '    [I love] new windshield wipers.'), (2152, '.. Oh I love [!Edna].')], 'SBC014.trn': [(981, '.. I love ... expansions of business.')], 'SBC015.trn': [(236, 'I would love --'), (237, '.. I would love to go=.'), (684, '             [6Cats love those6].'), (1308, '.. I love the little fl- --'), (1467, '[3they love to eat3],'), (1469, 'they love --'), (1475, \"                                    [3I'd love to see it3].\"), (1477, \"I'd love to see him chase and eat [4up a goldfish,\"), (1778, 'she said she really would[love to see the turtles eat a gold]fish,')], 'SBC016.trn': [(1000, '.. and [they love] it.')], 'SBC017.trn': [(20, 'creative people generally] do what they love [2to do2].')], 'SBC018.trn': [], 'SBC019.trn': [], 'SBC022.trn': [], 'SBC023.trn': [(505, \".. (H) the brother of the person that she's in [love with] marries [2her2],\")], 'SBC024.trn': [], 'SBC029.trn': [], 'SBC031.trn': [(567, 'I love hot tea.')], 'SBC032.trn': [], 'SBC033.trn': [], 'SBC034.trn': [(523, '... <F Reclining love seat F>.')], 'SBC035.trn': [(247, 'I fell in love with that school right [away but],'), (892, \".. that's where uh the Love Connection is [2<X though X>2].\")], 'SBC036.trn': [], 'SBC037.trn': [], 'SBC042.trn': [(162, '.. <X I .. love your jeans X>.')], 'SBC043.trn': [], 'SBC044.trn': [(203, 'because I want him to know that I do love him.'), (965, 'I was in love with ~Darren.'), (1068, \"(H) he loves her but he's not in love with her.\"), (1074, 'you can love a person,'), (1075, \".. but .. you're not [in love] with them,\"), (1084, '.. to love someone and,'), (1085, 'when you tell someone you love them,'), (1087, 'what love is all about.'), (1098, \".. (H) I wasn't really in love with his looks,\"), (1219, '[How could he] really love you though,'), (1247, '... I st- I love him,'), (1289, 'I love ~Lauren,'), (1301, '(H) and he says I really love ~Lauren,')], 'SBC045.trn': [(303, '<YWN Oh I love that YWN>.'), (1010, '.. the master fi- .. falls in love with him,')], 'SBC047.trn': [(334, 'that we still have a lot of= love for each other,'), (340, 'a=nd I still love her=,'), (446, 'I really did love her,')], 'SBC048.trn': [(182, 'I love [it].')], 'SBC049.trn': [(811, '... Who would love to @have their house done,')], 'SBC050.trn': [(27, '.. I love this bread.'), (37, '<@ I love it @>.'), (96, '... I love em though.'), (628, '.. Men love that stuff.')], 'SBC051.trn': [(428, 'I love it.'), (872, '[3I love this3].'), (1116, '[Cause I] fell in love with the re=[2=d2],'), (1181, \"[Don't you love it out here,\"), (1182, \"don't you love it]?\"), (1498, '[2I love theater2].')], 'SBC056.trn': [(917, '(H) But [then he fell in love with her and it was --')], 'SBC057.trn': [(172, 'I love it,')], 'SBC058.trn': [(244, '[Y]eah I used to love Ouija boards when I was a little girl.')], 'SBC059.trn': [(1335, 'Oh I [love <X toffee X>.')], 'SBC060.trn': [(516, 'love him.')]}"
      ]
     },
     "execution_count": 13,
     "metadata": {},
     "output_type": "execute_result"
    }
   ],
   "source": [
    "loves"
   ]
  },
  {
   "cell_type": "code",
   "execution_count": 14,
   "id": "ff70dd81",
   "metadata": {},
   "outputs": [
    {
     "data": {
      "text/plain": [
       "{'SBC001.trn': [], 'SBC002.trn': [], 'SBC003.trn': [], 'SBC004.trn': [], 'SBC005.trn': [(105, \"... I don't like re- --\"), (106, \"I don't like reading books about what other people think about dying.\")], 'SBC006.trn': [], 'SBC007.trn': [], 'SBC008.trn': [], 'SBC009.trn': [(282, \"... [I don't like these].\")], 'SBC010.trn': [], 'SBC011.trn': [], 'SBC013.trn': [(1613, \"... [I don't like] __\"), (1634, \"You've] [2never2] told us what you like and don't like,\")], 'SBC014.trn': [], 'SBC015.trn': [(485, \"[That's what I don't like] about him.\")], 'SBC016.trn': [], 'SBC017.trn': [], 'SBC018.trn': [], 'SBC019.trn': [], 'SBC022.trn': [], 'SBC023.trn': [], 'SBC024.trn': [], 'SBC029.trn': [(1093, \"I don't like hot kitchens anyway.\")], 'SBC031.trn': [], 'SBC032.trn': [], 'SBC033.trn': [], 'SBC034.trn': [], 'SBC035.trn': [], 'SBC036.trn': [(719, \".. You don't like him?\")], 'SBC037.trn': [], 'SBC042.trn': [], 'SBC043.trn': [], 'SBC044.trn': [(153, \"... (H) I don't like it,\"), (995, \"... (H) And I don't like men with like auburn hair.\"), (1379, \"(H) a lot of people don't like auburn hair or reddish brown hair.\")], 'SBC045.trn': [(794, \"... (SNIFF) I don't like em b=one [thin].\"), (802, \"I don't like ... like .. s=uper skinny .. railly=,\")], 'SBC047.trn': [], 'SBC048.trn': [(538, \"... d- I don't like to throw away bo=xes.\")], 'SBC049.trn': [], 'SBC050.trn': [(929, \"... And like I don't like %i- --\")], 'SBC051.trn': [(425, \"... I don't like the new buildings.\")], 'SBC056.trn': [], 'SBC057.trn': [], 'SBC058.trn': [], 'SBC059.trn': [(1062, \"... (TSK) he don't like the kind that,\")], 'SBC060.trn': []}"
      ]
     },
     "execution_count": 14,
     "metadata": {},
     "output_type": "execute_result"
    }
   ],
   "source": [
    "dontlikes"
   ]
  },
  {
   "cell_type": "code",
   "execution_count": 15,
   "id": "559aa581",
   "metadata": {},
   "outputs": [
    {
     "data": {
      "text/plain": [
       "{'SBC001.trn': [], 'SBC002.trn': [], 'SBC003.trn': [], 'SBC004.trn': [], 'SBC005.trn': [], 'SBC006.trn': [], 'SBC007.trn': [], 'SBC008.trn': [], 'SBC009.trn': [], 'SBC010.trn': [(816, \".. (H) I mean I kinda hate to feel like I'm taking .. charge,\")], 'SBC011.trn': [(255, \"... I think I'd hate to be in business right now.\"), (542, \"                    [you hate to] start out ... at ten o'[2clock2].\")], 'SBC013.trn': [(1643, '[I hate] ice [2cream2].'), (1645, 'I hate ice cream.')], 'SBC014.trn': [], 'SBC015.trn': [], 'SBC016.trn': [], 'SBC017.trn': [], 'SBC018.trn': [], 'SBC019.trn': [], 'SBC022.trn': [], 'SBC023.trn': [], 'SBC024.trn': [], 'SBC029.trn': [(462, '.. [Uh I I hate] to see us do it,'), (758, '.. Well I hate to do it right there.')], 'SBC031.trn': [], 'SBC032.trn': [], 'SBC033.trn': [], 'SBC034.trn': [], 'SBC035.trn': [(825, '<VOX (H) I hate LA,'), (826, '(H) I hate it VOX>.')], 'SBC036.trn': [], 'SBC037.trn': [], 'SBC042.trn': [(562, '[I hate those].'), (591, '... I hate that noise X>P>.')], 'SBC043.trn': [], 'SBC044.trn': [(556, '(H) I hate when people say that,')], 'SBC045.trn': [(563, '... I hate football.')], 'SBC047.trn': [], 'SBC048.trn': [], 'SBC049.trn': [], 'SBC050.trn': [(153, 'I hate ... bugs.'), (725, '<X I hate that XX feeling X>].')], 'SBC051.trn': [], 'SBC056.trn': [(1334, 'All other horses hate it.')], 'SBC057.trn': [], 'SBC058.trn': [], 'SBC059.trn': [(833, \"I'd hate to bounce .. a [check.\"), (1505, 'And I hate that.')], 'SBC060.trn': []}"
      ]
     },
     "execution_count": 15,
     "metadata": {},
     "output_type": "execute_result"
    }
   ],
   "source": [
    "hates"
   ]
  }
 ],
 "metadata": {
  "kernelspec": {
   "display_name": "Python 3 (ipykernel)",
   "language": "python",
   "name": "python3"
  },
  "language_info": {
   "codemirror_mode": {
    "name": "ipython",
    "version": 3
   },
   "file_extension": ".py",
   "mimetype": "text/x-python",
   "name": "python",
   "nbconvert_exporter": "python",
   "pygments_lexer": "ipython3",
   "version": "3.11.4"
  }
 },
 "nbformat": 4,
 "nbformat_minor": 5
}
